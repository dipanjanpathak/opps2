{
 "cells": [
  {
   "cell_type": "raw",
   "id": "c72a89f0-ef01-4409-8e63-ee2f678e141e",
   "metadata": {},
   "source": [
    "Constructor:"
   ]
  },
  {
   "cell_type": "raw",
   "id": "9d62adab-01bb-4963-8b19-a617dec79dde",
   "metadata": {},
   "source": [
    "1. What is a constructor in Python? Explain its purpose and usage."
   ]
  },
  {
   "cell_type": "raw",
   "id": "d2bd50dd-5822-472b-a5fb-b4cf6046e37d",
   "metadata": {},
   "source": [
    "A constructor in Python, named __init__(), initializes object instances.\n",
    "It assigns initial values to object attributes, setting up their state.\n",
    "The constructor is automatically called upon object creation.\n",
    "It ensures objects begin with predefined or default properties."
   ]
  },
  {
   "cell_type": "raw",
   "id": "732cf03d-5423-4a6c-925c-814dcc3a6bc9",
   "metadata": {},
   "source": [
    "2. Differentiate between a parameterless constructor and a parameterized constructor in Python."
   ]
  },
  {
   "cell_type": "raw",
   "id": "27d02244-65e5-40cf-a0b3-adab5706c67a",
   "metadata": {},
   "source": [
    "A parameterless constructor, __init__(), lacks parameters in its definition.\n",
    "It initializes object attributes with default values upon object creation.\n",
    "Contrarily, a parameterized constructor accepts arguments to set initial values.\n",
    "The parameterized constructor allows customization by specifying initial states during instantiation."
   ]
  },
  {
   "cell_type": "raw",
   "id": "55eba290-0ea9-4e7b-b2d0-bae87e102de0",
   "metadata": {},
   "source": [
    "3. How do you define a constructor in a Python class? Provide an example."
   ]
  },
  {
   "cell_type": "raw",
   "id": "714db14e-199a-4134-bd17-42d1836c0cf7",
   "metadata": {},
   "source": [
    "In Python, a constructor in a class is defined using a special method called __init__(). This method is automatically called when an instance of the class is created. Here's an example of how to define a constructor in a Python class:\n",
    "\n",
    "class MyClass:\n",
    "    def __init__(self, x, y):\n",
    "        self.x = x\n",
    "        self.y = y\n",
    "\n",
    "\n",
    "obj = MyClass(10, 20)\n",
    "\n",
    "print(obj.x)  # Output: 10\n",
    "print(obj.y)  # Output: 20\n",
    "\n",
    "In this example, __init__() initializes the x and y attributes of the MyClass instances with the values passed during object creation. The self parameter represents the instance of the class, and it's used to access and modify attributes within the class. When an instance of MyClass is created (obj = MyClass(10, 20)), __init__() is automatically invoked with the arguments (10, 20), initializing obj.x to 10 and obj.y to 20.\n"
   ]
  },
  {
   "cell_type": "raw",
   "id": "f845b55f-5388-4888-9f10-b3df0cbb4558",
   "metadata": {},
   "source": [
    "4. Explain the `__init__` method in Python and its role in constructors."
   ]
  },
  {
   "cell_type": "raw",
   "id": "f9885af7-61dd-4d09-8260-c9fec28f1bb4",
   "metadata": {},
   "source": [
    "The __init__ method in Python acts as a constructor within classes. It initializes object attributes when instances are created. The method takes self as its first parameter to reference the instance. You can define additional parameters to initialize object attributes based on provided arguments. It is automatically invoked upon object creation, facilitating the setup of initial object states."
   ]
  },
  {
   "cell_type": "raw",
   "id": "bb1333b2-ce2b-4b5e-99c8-d6f6b83fe40a",
   "metadata": {},
   "source": [
    "5. In a class named `Person`, create a constructor that initializes the `name` and `age` attributes. Provide an\n",
    "example of creating an object of this class."
   ]
  },
  {
   "cell_type": "code",
   "execution_count": 1,
   "id": "31dda193-e540-47b7-a129-35f710dc3392",
   "metadata": {},
   "outputs": [
    {
     "name": "stdout",
     "output_type": "stream",
     "text": [
      "Name: John\n",
      "Age: 30\n"
     ]
    }
   ],
   "source": [
    "class Person:\n",
    "    def __init__(self, name, age):\n",
    "        self.name = name\n",
    "        self.age = age\n",
    "\n",
    "        \n",
    "       \n",
    "person1 = Person(\"John\", 30)\n",
    "\n",
    "\n",
    "print(\"Name:\", person1.name)  \n",
    "print(\"Age:\", person1.age)   \n"
   ]
  },
  {
   "cell_type": "raw",
   "id": "a5d6f1f9-d269-4d57-a324-8fdb5a90cdfc",
   "metadata": {},
   "source": [
    "6. How can you call a constructor explicitly in Python? Give an example."
   ]
  },
  {
   "cell_type": "raw",
   "id": "f22b74c0-8577-4b94-a598-36a57e7c219b",
   "metadata": {},
   "source": [
    "In Python, we typically don't call the constructor explicitly; it is automatically invoked when we create an instance of a class. However, if needed, we can call the constructor explicitly using the class name and the __init__ method. Here's how we can do it:\n",
    "\n",
    "\n",
    "\n",
    "class MyClass:\n",
    "    def __init__(self, x):\n",
    "        self.x = x\n",
    "\n",
    "\n",
    "obj = MyClass.__init__(MyClass, 10)\n",
    "\n",
    "\n",
    "print(obj.x) \n",
    "\n",
    "In this example, we explicitly call the constructor __init__ of the MyClass class by passing the class name MyClass and the required arguments (MyClass, 10). This line essentially initializes an instance of MyClass with x set to 10.\n",
    "\n",
    "However, this is an unusual practice, and it's more common and Pythonic to let the constructor be called implicitly when creating instances using the class name.\n"
   ]
  },
  {
   "cell_type": "raw",
   "id": "c79e496a-ce4b-4a5a-bcfe-aa0561c7172a",
   "metadata": {},
   "source": [
    "7. What is the significance of the `self` parameter in Python constructors? Explain with an example."
   ]
  },
  {
   "cell_type": "raw",
   "id": "143a3735-d555-40ec-a26c-983d47b89d54",
   "metadata": {},
   "source": [
    "In Python constructors, the self parameter refers to the instance of the class itself. It allows methods within the class to access and modify attributes specific to each instance. self essentially helps differentiate between the attributes of one instance and those of another within the same class.\n",
    "\n",
    "Here's an example to illustrate the significance of the self parameter in Python constructors:\n",
    "\n",
    "class Person:\n",
    "    def __init__(self, name, age):\n",
    "        self.name = name\n",
    "        self.age = age\n",
    "\n",
    "    def display_info(self):\n",
    "        print(f\"Name: {self.name}, Age: {self.age}\")\n",
    "\n",
    "\n",
    "person1 = Person(\"Alice\", 25)\n",
    "person2 = Person(\"Bob\", 30)\n",
    "person1.display_info()  \n",
    "person2.display_info()\n",
    "\n",
    "In this example, the __init__ method initializes the name and age attributes for each instance of the Person class. The self parameter ensures that name and age belong to the specific instance being initialized.\n",
    "\n",
    "When display_info() is called on person1, self.name and self.age refer to the attributes of person1. Similarly, when called on person2, self.name and self.age refer to the attributes of person2. Thus, self helps maintain the separation and encapsulation of data within each instance of the class."
   ]
  },
  {
   "cell_type": "raw",
   "id": "ba5bcde7-3e4f-4aa7-baa3-67d2d4c92a35",
   "metadata": {},
   "source": [
    "8. Discuss the concept of default constructors in Python. When are they used?"
   ]
  },
  {
   "cell_type": "raw",
   "id": "9021e76a-8c5d-44b6-a8fb-eeefd2656fea",
   "metadata": {},
   "source": [
    "In Python, default constructors are automatically provided if not explicitly defined within a class. They initialize objects without additional attributes or setup. Default constructors are used when no custom initialization is required beyond Python's defaults. They take only the self parameter implicitly. While convenient, explicit constructors are commonly defined for class-specific initialization tasks."
   ]
  },
  {
   "cell_type": "raw",
   "id": "ea23a1c8-08d9-4612-81d8-70ca3e524a60",
   "metadata": {},
   "source": [
    "9. Create a Python class called `Rectangle` with a constructor that initializes the `width` and `height`\n",
    "attributes. Provide a method to calculate the area of the rectangle."
   ]
  },
  {
   "cell_type": "code",
   "execution_count": null,
   "id": "5cd36a61-ffa3-4f8a-a0ad-a25672b99bdd",
   "metadata": {},
   "outputs": [],
   "source": [
    "class Rectangle:\n",
    "    def __init__(self,width,height):\n",
    "        self.width = width\n",
    "        self.height = height\n",
    "\n",
    "    def area_calculator(self):\n",
    "        return self.height* self.width\n",
    "    \n",
    "a = Rectangle(2,3)\n",
    "print(\"Area of rectangle is:\",a.area_calculator())\n"
   ]
  },
  {
   "cell_type": "raw",
   "id": "fd35d34b-279b-4843-aae5-3774c267477d",
   "metadata": {},
   "source": [
    "10. How can you have multiple constructors in a Python class? Explain with an example."
   ]
  },
  {
   "cell_type": "raw",
   "id": "bbc5dca0-a6c2-40e3-85a6-3150778cc48f",
   "metadata": {},
   "source": [
    "\n",
    "In Python, while we cannot directly have multiple constructors within a class as in some other languages, we can achieve similar functionality through default parameter values or class methods acting as alternative constructors.\n",
    "\n",
    "Using default parameter values:\n",
    "\n",
    "class MyClass:\n",
    "    def __init__(self, x=None, y=None):\n",
    "        if x is not None and y is not None:\n",
    "            self.x = x\n",
    "            self.y = y\n",
    "        else:\n",
    "            self.x = 0\n",
    "            self.y = 0\n",
    "\n",
    "obj1 = MyClass()        \n",
    "obj2 = MyClass(10, 20)   \n",
    "print(obj1.x, obj1.y)    \n",
    "print(obj2.x, obj2.y)  \n",
    "\n",
    "Using class methods as alternative constructors:\n",
    "\n",
    "\n",
    "class MyClass:\n",
    "    def __init__(self, x, y):\n",
    "        self.x = x\n",
    "        self.y = y\n",
    "\n",
    "    @classmethod\n",
    "    def from_string(cls, string):\n",
    "        x, y = map(int, string.split(','))\n",
    "        return cls(x, y)\n",
    "\n",
    "\n",
    "obj1 = MyClass(10, 20)               \n",
    "obj2 = MyClass.from_string('30,40')  \n",
    "\n",
    "print(obj1.x, obj1.y)                 \n",
    "print(obj2.x, obj2.y)    \n",
    "\n",
    "\n",
    "In these examples, we utilize default parameter values in the constructor to handle different initialization scenarios or class methods as alternative constructors to provide flexibility in object creation based on various inputs.\n"
   ]
  },
  {
   "cell_type": "raw",
   "id": "a2ff9819-7959-43c6-b014-589cb3dc9bfb",
   "metadata": {},
   "source": [
    "11. What is method overloading, and how is it related to constructors in Python?"
   ]
  },
  {
   "cell_type": "raw",
   "id": "dc71b680-f3c8-46e9-9f46-30c9c2ee986d",
   "metadata": {},
   "source": [
    " The __init__() method serves as a constructor, but only one such method per class is permitted.\n",
    "Pythonic alternatives to method overloading include default parameter values and variable numbers of arguments (*args and **kwargs).\n",
    "Design patterns and Pythonic idioms are often employed to handle different cases where method overloading might be used in other languages."
   ]
  },
  {
   "cell_type": "raw",
   "id": "b4cdc26f-168d-4155-a3b6-76b19833f828",
   "metadata": {},
   "source": [
    "12. Explain the use of the `super()` function in Python constructors. Provide an example."
   ]
  },
  {
   "cell_type": "raw",
   "id": "520aa57c-8d86-49e2-bb7f-9e770396f746",
   "metadata": {},
   "source": [
    "In Python, the super() function is used in constructors to call the constructor of the parent class (or superclass). It allows access to methods and attributes of the parent class within the subclass. This is particularly useful for initializing attributes inherited from the parent class.\n",
    "\n",
    "Here's how super() is typically used in Python constructors:\n",
    "\n",
    "\n",
    "class Parent:\n",
    "    def __init__(self, parent_attr):\n",
    "        self.parent_attr = parent_attr\n",
    "\n",
    "class Child(Parent):\n",
    "    def __init__(self, parent_attr, child_attr):\n",
    "        super().__init__(parent_attr)  \n",
    "        self.child_attr = child_attr\n",
    "\n",
    "\n",
    "child_obj = Child(\"Parent attribute\", \"Child attribute\")\n",
    "\n",
    "print(child_obj.parent_attr)  \n",
    "print(child_obj.child_attr)   \n",
    "\n",
    "\n",
    "In this example, we have a parent class Parent with a constructor that initializes a parent_attr attribute. The Child class inherits from Parent and has its own constructor. Inside the Child class constructor, super().__init__(parent_attr) calls the constructor of the parent class to initialize the inherited attribute parent_attr.\n",
    "\n",
    "Using super() ensures that the parent class constructor is called properly, even if the parent class name changes during refactoring or inheritance hierarchy restructuring. It also helps maintain code consistency and readability."
   ]
  },
  {
   "cell_type": "raw",
   "id": "d3359b20-8296-4d52-84d2-6fdfd8783cc8",
   "metadata": {},
   "source": [
    "13. Create a class called `Book` with a constructor that initializes the `title`, `author`, and `published_year`\n",
    "attributes. Provide a method to display book details."
   ]
  },
  {
   "cell_type": "code",
   "execution_count": null,
   "id": "f4cf5cad-f3b4-4d99-8d4f-bd4460d7e297",
   "metadata": {},
   "outputs": [],
   "source": [
    "class Book:\n",
    "    def __init__(self,title,author,published_year):\n",
    "        self.title = title\n",
    "        self.author = author\n",
    "        self.published_year = published_year\n",
    "\n",
    "    def display_book_details(self):\n",
    "        print(f\"Book name: {self.title} author name: {self.author} published year: {self.published_year}\")\n",
    "\n",
    "a = Book(\"Bidhilipi\",\"Ram Santra\",2014)\n",
    "a.display_book_details()"
   ]
  },
  {
   "cell_type": "raw",
   "id": "d92f7b7b-5d0b-4e8f-9d66-04258f6ba76d",
   "metadata": {},
   "source": [
    "14. Discuss the differences between constructors and regular methods in Python classes."
   ]
  },
  {
   "cell_type": "raw",
   "id": "ee1a3322-5306-49b5-afc7-3e14ca06b2ab",
   "metadata": {},
   "source": [
    "Constructor (e.g., __init__() method):\n",
    "\n",
    "Purpose: Initializes the object's state by setting initial values for attributes when an instance of the class is created.\n",
    "Invocation: Automatically called upon object instantiation.\n",
    "Syntax: Defined with the __init__() method name.\n",
    "Parameters: Typically takes self (instance reference) along with other parameters to initialize attributes.\n",
    "Regular methods:\n",
    "\n",
    "Purpose: Perform operations or provide functionality related to the class.\n",
    "Invocation: Requires an explicit call using the instance or class name.\n",
    "Syntax: Defined with a method name within the class.\n",
    "Parameters: Can accept self and other parameters depending on the method's requirements.\n",
    "Key Differences:\n",
    "\n",
    "Constructors are called automatically upon object creation, while regular methods require explicit invocation.\n",
    "Constructors initialize object attributes and set up the initial state, while regular methods perform various tasks or operations.\n",
    "Constructors have a specific name (__init__()), distinguishing them from regular methods.\n",
    "Regular methods can be called multiple times on an object, whereas constructors are typically called only once during object creation.\n",
    "In summary, constructors initialize object attributes upon instantiation, while regular methods provide functionality and can be called multiple times as needed during the object's lifecycle."
   ]
  },
  {
   "cell_type": "raw",
   "id": "12fdf2fa-9065-4ba9-8af4-7ddd685f6ca0",
   "metadata": {},
   "source": [
    "15. Explain the role of the `self` parameter in instance variable initialization within a constructor."
   ]
  },
  {
   "cell_type": "raw",
   "id": "db16df5d-3f09-4b4a-a457-8304fc590f51",
   "metadata": {},
   "source": [
    "In Python, the self parameter in a constructor refers to the instance of the class being created. It allows the constructor to initialize instance variables specific to each instance. By using self.variable_name, the constructor sets up the initial state of the object. Instance variables initialized with self are accessible throughout the class. self distinguishes instance variables from class-level variables, ensuring proper attribute management within each instance."
   ]
  },
  {
   "cell_type": "raw",
   "id": "332b51f9-e928-4034-8e08-ce3bcb874982",
   "metadata": {},
   "source": [
    "16. How do you prevent a class from having multiple instances by using constructors in Python? Provide an\n",
    "example."
   ]
  },
  {
   "cell_type": "raw",
   "id": "61babe4d-e6e9-45e4-8cf1-1c8d7631c717",
   "metadata": {},
   "source": [
    "In Python, you can prevent a class from having multiple instances by implementing a Singleton design pattern in the constructor. The Singleton pattern ensures that only one instance of the class exists throughout the program.\n",
    "\n",
    "Here's an example of implementing the Singleton pattern in Python using a class variable to track the single instance:\n",
    "\n",
    "\n",
    "class Singleton:\n",
    "    _instance = None\n",
    "\n",
    "    def __new__(cls):\n",
    "        if cls._instance is None:\n",
    "            cls._instance = super().__new__(cls)\n",
    "        return cls._instance\n",
    "\n",
    "    def __init__(self, data):\n",
    "        if not hasattr(self, 'initialized'):\n",
    "            self.data = data\n",
    "            self.initialized = True\n",
    "\n",
    "\n",
    "obj1 = Singleton(\"Data for obj1\")\n",
    "obj2 = Singleton(\"Data for obj2\")\n",
    "\n",
    "print(obj1 is obj2)  \n",
    "print(obj1.data)      \n",
    "print(obj2.data)     \n"
   ]
  },
  {
   "cell_type": "raw",
   "id": "b3622da1-1bda-4a32-8a29-2ab061f9dfc5",
   "metadata": {},
   "source": [
    "17. Create a Python class called `Student` with a constructor that takes a list of subjects as a parameter and\n",
    "initializes the `subjects` attribute."
   ]
  },
  {
   "cell_type": "code",
   "execution_count": null,
   "id": "b1f363af-6ba0-4fa4-a18d-cec87cfde1f2",
   "metadata": {},
   "outputs": [],
   "source": [
    "class Student:\n",
    "    def __init__(self, subjects):\n",
    "        self.subjects = subjects\n",
    "\n",
    "\n",
    "subjects_list = ['Math', 'Science', 'History']\n",
    "student = Student(subjects_list)\n",
    "\n",
    "print(student.subjects) "
   ]
  },
  {
   "cell_type": "raw",
   "id": "8fd35973-d2bb-4d6e-851c-20cc5d72bc43",
   "metadata": {},
   "source": [
    "18. What is the purpose of the `__del__` method in Python classes, and how does it relate to constructors?"
   ]
  },
  {
   "cell_type": "raw",
   "id": "f37dc2f2-4eb0-4e0b-8a37-4e04b263df1b",
   "metadata": {},
   "source": [
    "In Python, the __del__ method is a special method used to define what happens when an object is about to be destroyed or garbage collected. It serves as the destructor for a class, allowing you to perform cleanup tasks or release resources associated with the object before it is removed from memory.\n",
    "\n",
    "The purpose of the __del__ method is to provide a mechanism for performing cleanup operations on an object when it is no longer needed. This can include closing files, releasing database connections, or freeing up memory allocated to the object.\n",
    "\n",
    "The __del__ method is the counterpart to the __init__ method, which is the constructor in Python classes. While the constructor (__init__) is called when an object is created, the destructor (__del__) is called when the object is garbage collected or explicitly deleted using the del keyword.\n",
    "\n",
    "However, it's important to note that relying on the __del__ method for resource cleanup is not always recommended, as the timing of garbage collection in Python is not deterministic. Instead, it's better to use context managers (with statements) or explicitly close resources when they are no longer needed to ensure proper cleanup.\n",
    "\n",
    "In summary, the __del__ method in Python classes provides a way to define cleanup operations for objects, and it serves as the destructor, complementing the constructor (__init__) by managing the object's lifecycle."
   ]
  },
  {
   "cell_type": "raw",
   "id": "e8a7b43f-5f0a-4e01-9682-9c56157b4f35",
   "metadata": {},
   "source": [
    "19. Explain the use of constructor chaining in Python. Provide a practical example."
   ]
  },
  {
   "cell_type": "raw",
   "id": "f5dddeff-8341-4d25-b588-37018445bcb3",
   "metadata": {},
   "source": [
    "Constructor chaining in Python refers to the process of calling one constructor from another within the same class hierarchy. It allows you to reuse initialization logic across different constructors while ensuring that each constructor handles its specific initialization tasks.\n",
    "\n",
    "Here's how constructor chaining works:\n",
    "\n",
    "One constructor within a class calls another constructor of the same class using specific parameters or default values.\n",
    "This helps avoid code duplication and promotes reusability by centralizing common initialization logic within the class.\n",
    "Here's a practical example demonstrating constructor chaining in Python:\n",
    "\n",
    "\n",
    "class Person:\n",
    "    def __init__(self, name, age):\n",
    "        self.name = name\n",
    "        self.age = age\n",
    "\n",
    "    @classmethod\n",
    "    def from_birth_year(cls, name, birth_year):\n",
    "        age = 2024 - birth_year\n",
    "        return cls(name, age)\n",
    "\n",
    "\n",
    "person1 = Person(\"Alice\", 30)\n",
    "person2 = Person.from_birth_year(\"Bob\", 1990) \n",
    "\n",
    "print(person1.name, person1.age)  \n",
    "print(person2.name, person2.age)  \n",
    "\n",
    "\n",
    "\n",
    "In this example, we have a Person class with two constructors:\n",
    "\n",
    "The primary constructor (__init__) initializes the name and age attributes directly.\n",
    "The alternative constructor (from_birth_year) calculates the age based on the birth year and then calls the primary constructor to initialize the name and age attributes.\n",
    "By utilizing constructor chaining, we can create instances of the Person class using different initialization approaches while keeping the initialization logic encapsulated within the class."
   ]
  },
  {
   "cell_type": "raw",
   "id": "657ed3ae-2078-4425-a3b3-5efdf1acc47c",
   "metadata": {},
   "source": [
    "20. Create a Python class called `Car` with a default constructor that initializes the `make` and `model`\n",
    "attributes. Provide a method to display car information."
   ]
  },
  {
   "cell_type": "code",
   "execution_count": 2,
   "id": "7570d7ff-64ce-4bc7-8389-bb9fe75279ee",
   "metadata": {},
   "outputs": [
    {
     "name": "stdout",
     "output_type": "stream",
     "text": [
      "Car Make: Toyota\n",
      "Car Model: Camry\n"
     ]
    }
   ],
   "source": [
    "class Car:\n",
    "    def __init__(self, make, model):\n",
    "        self.make = make\n",
    "        self.model = model\n",
    "\n",
    "    def display_info(self):\n",
    "        print(f\"Car Make: {self.make}\")\n",
    "        print(f\"Car Model: {self.model}\")\n",
    "\n",
    "\n",
    "car1 = Car(\"Toyota\", \"Camry\")\n",
    "\n",
    "car1.display_info()\n"
   ]
  },
  {
   "cell_type": "markdown",
   "id": "08e22031-e098-4f5b-abac-4aca2e78b380",
   "metadata": {},
   "source": [
    "Inheritance:"
   ]
  },
  {
   "cell_type": "raw",
   "id": "33eda20c-2e04-48f8-bb85-9b5a958f15cb",
   "metadata": {},
   "source": [
    "1. What is inheritance in Python? Explain its significance in object-oriented programming."
   ]
  },
  {
   "cell_type": "raw",
   "id": "6ab64dc0-44e0-4abc-9a7f-f06047c059d9",
   "metadata": {},
   "source": [
    "Inheritance in Python is a mechanism where a new class, called the derived class or subclass, can inherit attributes and methods from an existing class, known as the base class or superclass. The derived class can extend or modify the behavior of the base class while inheriting its features.\n",
    "\n",
    "The significance of inheritance in object-oriented programming includes:\n",
    "\n",
    "Code Reusability: Inheritance allows us to reuse code from existing classes, reducing redundancy and promoting a more modular and maintainable codebase. By inheriting attributes and methods from a base class, derived classes can leverage existing implementations.\n",
    "\n",
    "Hierarchy and Organization: Inheritance facilitates the creation of class hierarchies, where classes are organized in a hierarchical structure based on their relationships. This hierarchical structure reflects the \"is-a\" relationship, allowing for better organization and understanding of the code.\n",
    "\n",
    "Polymorphism: Inheritance enables polymorphic behavior, where objects of different classes can be treated uniformly through a common interface provided by the base class. This promotes flexibility and extensibility in the design of object-oriented systems.\n",
    "\n",
    "Code Extensibility: Derived classes can extend the functionality of base classes by adding new attributes and methods or by overriding existing ones. This enables developers to customize and specialize behavior based on specific requirements without modifying the original implementation.\n",
    "\n",
    "In summary, inheritance is a fundamental concept in object-oriented programming that fosters code reuse, organization, polymorphism, and extensibility, contributing to the development of flexible, modular, and maintainable software systems."
   ]
  },
  {
   "cell_type": "raw",
   "id": "fca87825-2f83-4707-b48f-ea31604d8fdb",
   "metadata": {},
   "source": [
    "2. Differentiate between single inheritance and multiple inheritance in Python. Provide examples for each."
   ]
  },
  {
   "cell_type": "raw",
   "id": "c6b05842-2dbc-4a07-9983-78a9d32bd2b0",
   "metadata": {},
   "source": [
    "In Python, inheritance allows a class to inherit attributes and methods from another class. There are two types of inheritance: single inheritance and multiple inheritance.\n",
    "\n",
    "Single Inheritance:\n",
    "Single inheritance occurs when a class inherits attributes and methods from only one parent class.\n",
    "It forms a linear hierarchy, where each derived class has exactly one base class.\n",
    "Single inheritance promotes simplicity and clarity in class relationships.\n",
    "Here's an example of single inheritance in Python:\n",
    "\n",
    "\n",
    "class Animal:\n",
    "    def sound(self):\n",
    "        print(\"Animal makes a sound\")\n",
    "\n",
    "class Dog(Animal):\n",
    "    def bark(self):\n",
    "        print(\"Dog barks\")\n",
    "\n",
    "\n",
    "dog = Dog()\n",
    "dog.sound() \n",
    "dog.bark() \n",
    "\n",
    "In this example, the Dog class inherits from the Animal class. It inherits the sound() method from the Animal class and defines its own bark() method.\n",
    "\n",
    "Multiple Inheritance:\n",
    "Multiple inheritance occurs when a class inherits attributes and methods from more than one parent class.\n",
    "It allows a derived class to inherit from multiple base classes, forming a diamond-shaped inheritance hierarchy.\n",
    "Multiple inheritance increases code complexity but can provide more flexibility and code reuse in certain situations.\n",
    "Here's an example of multiple inheritance in Python:\n",
    "\n",
    "\n",
    "class Animal:\n",
    "    def sound(self):\n",
    "        print(\"Animal makes a sound\")\n",
    "\n",
    "class Bird:\n",
    "    def fly(self):\n",
    "        print(\"Bird flies\")\n",
    "\n",
    "class Parrot(Animal, Bird):\n",
    "    def talk(self):\n",
    "        print(\"Parrot talks\")\n",
    "\n",
    "\n",
    "parrot = Parrot()\n",
    "parrot.sound() \n",
    "parrot.fly()   \n",
    "parrot.talk() \n",
    "\n",
    "In this example, the Parrot class inherits from both the Animal and Bird classes, demonstrating multiple inheritance. It inherits the sound() method from Animal and the fly() method from Bird, while also defining its own talk() method.\n",
    "\n",
    "While both single and multiple inheritance have their advantages and use cases, it's important to use them judiciously to maintain code clarity and avoid complexities.\n"
   ]
  },
  {
   "cell_type": "raw",
   "id": "343c2530-dffc-468a-8ff6-c73b70231f00",
   "metadata": {},
   "source": [
    "3. Create a Python class called `Vehicle` with attributes `color` and `speed`. Then, create a child class called\n",
    "`Car` that inherits from `Vehicle` and adds a `brand` attribute. Provide an example of creating a `Car` object."
   ]
  },
  {
   "cell_type": "code",
   "execution_count": 1,
   "id": "ec82b71e-207a-42a4-a48c-3addbcc9a597",
   "metadata": {},
   "outputs": [
    {
     "name": "stdout",
     "output_type": "stream",
     "text": [
      "vehicle color is Blue and speed is 50 and brand is Tata\n"
     ]
    }
   ],
   "source": [
    "class Vehicle:\n",
    "    def __init__(self,color,speed):\n",
    "        self.color = color\n",
    "        self.speed = speed\n",
    "\n",
    "    def vehicle_detail(self):\n",
    "         print(f\"vehicle color is {self.color} and speed is {self.speed}\")\n",
    "class car(Vehicle):\n",
    "    def car_details(self,brands):\n",
    "            self.brands = brands\n",
    "            print(f\"vehicle color is {self.color} and speed is {self.speed} and brand is {self.brands}\")\n",
    "\n",
    "a = Vehicle(\"red\",30)\n",
    "b = car(\"Blue\",50)\n",
    "b.car_details(\"Tata\")"
   ]
  },
  {
   "cell_type": "raw",
   "id": "4454477c-44f7-4b35-bc66-4e71ba5a0a72",
   "metadata": {},
   "source": [
    "4. Explain the concept of method overriding in inheritance. Provide a practical example."
   ]
  },
  {
   "cell_type": "raw",
   "id": "b4386e07-5cd4-4abc-939f-4a8619e0eedc",
   "metadata": {},
   "source": [
    "Method overriding is a feature in object-oriented programming that allows a subclass to provide a specific implementation of a method that is already provided by one of its superclasses. When a method in a subclass has the same name, same parameters, and same return type as a method in its superclass, it overrides the method of the superclass.\n",
    "\n",
    "Here's a breakdown of the concept:\n",
    "\n",
    "Inheritance: Inheritance is a fundamental concept in object-oriented programming where a class (subclass) inherits properties and behaviors (methods) from another class (superclass).\n",
    "\n",
    "Superclass and Subclass: A superclass is a class from which other classes (subclasses) derive. Subclasses inherit attributes and methods from their superclass.\n",
    "\n",
    "Method Overriding: Method overriding occurs when a subclass provides a specific implementation of a method that is already provided by one of its superclasses. This allows the subclass to tailor the behavior of the method to its own context while still maintaining a common interface with its superclass.\n",
    "\n",
    "Same Signature: Method overriding requires that the overriding method in the subclass has the same method signature (name, parameters, and return type) as the method in the superclass.\n",
    "\n",
    "Here's a practical example in Python:\n",
    "\n",
    "class Animal:\n",
    "    def sound(self):\n",
    "        print(\"Animals make different sounds.\")\n",
    "\n",
    "class Dog(Animal):\n",
    "    def sound(self):\n",
    "        print(\"Dog barks.\")\n",
    "\n",
    "class Cat(Animal):\n",
    "    def sound(self):\n",
    "        print(\"Cat meows.\")\n",
    "\n",
    "class Cow(Animal):\n",
    "    pass\n",
    "\n",
    "\n",
    "dog = Dog()\n",
    "cat = Cat()\n",
    "cow = Cow()\n",
    "\n",
    "\n",
    "dog.sound()\n",
    "cat.sound() \n",
    "cow.sound() \n",
    "n this example, we have a superclass Animal with a method sound(), and three subclasses Dog, Cat, and Cow. Each subclass overrides the sound() method of the superclass with its own implementation. When we call the sound() method on each object, the appropriate overridden method is executed based on the type of animal."
   ]
  },
  {
   "cell_type": "raw",
   "id": "34ab0814-524b-4bb8-88eb-bd6d3bab03b6",
   "metadata": {},
   "source": [
    "5. How can you access the methods and attributes of a parent class from a child class in Python? Give an example."
   ]
  },
  {
   "cell_type": "raw",
   "id": "92a8869c-805b-4406-89ff-c73e9ad96bf4",
   "metadata": {},
   "source": [
    " In Python, we can access the methods and attributes of a parent class from a child class using the super() function. This function returns a proxy object that allows us to call methods of the parent class. By using super(), we can invoke the parent class's methods or access its attributes within the child class.\n",
    " class Parent:\n",
    "    def parent_method(self):\n",
    "        print(\"Parent method called.\")\n",
    "\n",
    "class Child(Parent):\n",
    "    def child_method(self):\n",
    "        super().parent_method()  \n",
    "        \n",
    "child = Child()\n",
    "\n",
    "child.child_method()\n"
   ]
  },
  {
   "cell_type": "raw",
   "id": "5260ce7d-f3ce-49c9-8d22-589b507117ce",
   "metadata": {},
   "source": [
    "6. Discuss the use of the `super()` function in Python inheritance. When and why is it used? Provide an example."
   ]
  },
  {
   "cell_type": "raw",
   "id": "cc50413b-efa1-4a7c-815c-a6aa2464fd7b",
   "metadata": {},
   "source": [
    "The super() function in Python enables accessing methods and attributes of a superclass within a subclass. It's particularly useful for invoking superclass constructors and methods while maintaining code flexibility and readability. By using super(), subclass methods can leverage and extend functionalities from their superclass without hardcoding class names.\n",
    "\n",
    "\n",
    "class Parent:\n",
    "    def method(self):\n",
    "        print(\"Parent method called.\")\n",
    "\n",
    "class Child(Parent):\n",
    "    def method(self):\n",
    "        super().method() \n",
    "\n",
    "child = Child()\n",
    "child.method()\n"
   ]
  },
  {
   "cell_type": "raw",
   "id": "a32e9a53-2da8-4d3a-9ba1-c5b95b43058f",
   "metadata": {},
   "source": [
    "7. Create a Python class called `Animal` with a method `speak()`. Then, create child classes `Dog` and `Cat` that inherit from `Animal` and override the `speak()` method. Provide an example of using these classes."
   ]
  },
  {
   "cell_type": "code",
   "execution_count": null,
   "id": "5a534430-c274-4240-865c-7fc0170bc639",
   "metadata": {},
   "outputs": [],
   "source": [
    "class Animal:\n",
    "    def speak(self):\n",
    "        pass  \n",
    "\n",
    "class Dog(Animal):\n",
    "    def speak(self):\n",
    "        return \"Woof!\"  \n",
    "\n",
    "class Cat(Animal):\n",
    "    def speak(self):\n",
    "        return \"Meow!\" \n",
    "\n",
    "\n",
    "dog = Dog()\n",
    "print(\"Dog says:\", dog.speak())  \n",
    "\n",
    "cat = Cat()\n",
    "print(\"Cat says:\", cat.speak())  \n"
   ]
  },
  {
   "cell_type": "raw",
   "id": "ec58dab0-bb57-478b-8c18-ee8a5b77a85b",
   "metadata": {},
   "source": [
    "8. Explain the role of the `isinstance()` function in Python and how it relates to inheritance."
   ]
  },
  {
   "cell_type": "raw",
   "id": "a62c1c72-9f5c-4cf0-b2a4-46d635eaca96",
   "metadata": {},
   "source": [
    "The isinstance() function in Python determines whether an object belongs to a particular class or its subclass. It aids in dynamic type checking and facilitates polymorphic behavior based on class hierarchies. By checking object types, it enables conditional logic and flexible handling of objects in various contexts, accommodating changes in class structures."
   ]
  },
  {
   "cell_type": "raw",
   "id": "b38f35cf-6b62-48b3-8b7a-d72929cd5ece",
   "metadata": {},
   "source": [
    "9. What is the purpose of the `issubclass()` function in Python? Provide an example."
   ]
  },
  {
   "cell_type": "raw",
   "id": "950a3171-421b-4b22-9ad3-ac137ceda67a",
   "metadata": {},
   "source": [
    "The issubclass() function in Python is used to check if one class is a subclass of another. It helps inspect the inheritance hierarchy between classes and facilitates dynamic behavior based on class relationships. By examining class hierarchies, it enables conditional logic and adaptable code execution paths."
   ]
  },
  {
   "cell_type": "raw",
   "id": "e37c0d2e-dbc7-4fc3-8807-3dc3bf34f3aa",
   "metadata": {},
   "source": [
    "10. Discuss the concept of constructor inheritance in Python. How are constructors inherited in child classes?"
   ]
  },
  {
   "cell_type": "raw",
   "id": "d51fb53e-bf80-43e3-983f-742e8b9866e2",
   "metadata": {},
   "source": [
    "Constructor inheritance in Python implies that child classes automatically inherit the constructor (init method) of their parent classes if not explicitly overridden. Child classes can explicitly call the constructor of their parent classes using super().init() to utilize parent class initialization logic. This mechanism ensures that initialization behavior defined in parent classes can be reused and extended in child classes without duplication. Constructor inheritance follows the method resolution order (MRO) defined by Python, especially in cases of multiple inheritance. This feature enhances code reusability and maintainability in object-oriented programming in Python."
   ]
  },
  {
   "cell_type": "raw",
   "id": "4a390a89-c7de-47dc-a5f4-665c61f6b7cc",
   "metadata": {},
   "source": [
    "11. Create a Python class called `Shape` with a method `area()` that calculates the area of a shape. Then, create child classes `Circle` and `Rectangle` that inherit from `Shape` and implement the `area()` method\n",
    "accordingly. Provide an example."
   ]
  },
  {
   "cell_type": "code",
   "execution_count": 2,
   "id": "dd4fa97c-240f-455d-83c4-968472922f73",
   "metadata": {},
   "outputs": [
    {
     "name": "stdout",
     "output_type": "stream",
     "text": [
      "Area of circle: 78.53981633974483\n",
      "Area of rectangle: 24\n"
     ]
    }
   ],
   "source": [
    "import math\n",
    "\n",
    "class Shape:\n",
    "    def area(self):\n",
    "        pass  \n",
    "\n",
    "class Circle(Shape):\n",
    "    def __init__(self, radius):\n",
    "        self.radius = radius\n",
    "\n",
    "    def area(self):\n",
    "        return math.pi * self.radius**2\n",
    "\n",
    "class Rectangle(Shape):\n",
    "    def __init__(self, width, height):\n",
    "        self.width = width\n",
    "        self.height = height\n",
    "\n",
    "    def area(self):\n",
    "        return self.width * self.height\n",
    "\n",
    "\n",
    "circle = Circle(5)\n",
    "print(\"Area of circle:\", circle.area()) \n",
    "\n",
    "rectangle = Rectangle(4, 6)\n",
    "print(\"Area of rectangle:\", rectangle.area()) \n"
   ]
  },
  {
   "cell_type": "raw",
   "id": "553138e7-6edb-48bb-86f4-50c3255fa8ae",
   "metadata": {},
   "source": [
    "12. Explain the use of abstract base classes (ABCs) in Python and how they relate to inheritance. Provide an\n",
    "example using the `abc` module."
   ]
  },
  {
   "cell_type": "raw",
   "id": "b3399f05-d47a-4ea2-bb9f-0af0a31a043a",
   "metadata": {},
   "source": [
    "Abstract Base Classes (ABCs) in Python enforce a blueprint for subclasses, ensuring specific methods are implemented.\n",
    "They prevent direct instantiation and serve as templates for subclasses to implement abstract methods.\n",
    "ABCs facilitate polymorphic behavior, allowing different classes to be treated interchangeably if they implement the same methods.\n",
    "In Python, the abc module provides functionality to define ABCs and abstract methods using the abstractmethod decorator.\n",
    "Subclasses inherit the structure and behavior defined by ABCs and are required to implement abstract methods, promoting code consistency and clarity."
   ]
  },
  {
   "cell_type": "raw",
   "id": "92d3f59a-e243-4d18-8144-5c01d7fdeda8",
   "metadata": {},
   "source": [
    "13. How can you prevent a child class from modifying certain attributes or methods inherited from a parent\n",
    "class in Python?"
   ]
  },
  {
   "cell_type": "raw",
   "id": "187a9d1d-ac60-47a7-8466-2f0feb8772c4",
   "metadata": {},
   "source": [
    "\n",
    "In Python, we can prevent a child class from modifying certain attributes or methods inherited from a parent class by using encapsulation and access control techniques. By declaring attributes and methods as private with double underscores (__), we restrict direct access from child classes. We can also use property decorators and class properties to control attribute access. Additionally, we can document and follow naming conventions to indicate which attributes and methods are intended for internal use only. If necessary, we can enforce final methods in the parent class to discourage modification by child classes."
   ]
  },
  {
   "cell_type": "raw",
   "id": "f617146f-0d66-4dce-8074-e0983d03a4ad",
   "metadata": {},
   "source": [
    "14. Create a Python class called `Employee` with attributes `name` and `salary`. Then, create a child class `Manager` that inherits from `Employee` and adds an attribute `department`. Provide an example."
   ]
  },
  {
   "cell_type": "code",
   "execution_count": 3,
   "id": "c8e56c86-08d2-415e-a8ed-632897bbbc20",
   "metadata": {},
   "outputs": [
    {
     "name": "stdout",
     "output_type": "stream",
     "text": [
      "Employee: John Doe - Salary: 50000\n",
      "Manager: Jane Smith - Salary: 80000 - Department: HR\n"
     ]
    }
   ],
   "source": [
    "class Employee:\n",
    "    def __init__(self, name, salary):\n",
    "        self.name = name\n",
    "        self.salary = salary\n",
    "\n",
    "class Manager(Employee):\n",
    "    def __init__(self, name, salary, department):\n",
    "        super().__init__(name, salary)\n",
    "        self.department = department\n",
    "\n",
    "\n",
    "employee1 = Employee(\"John Doe\", 50000)\n",
    "print(\"Employee:\", employee1.name, \"- Salary:\", employee1.salary)\n",
    "\n",
    "manager1 = Manager(\"Jane Smith\", 80000, \"HR\")\n",
    "print(\"Manager:\", manager1.name, \"- Salary:\", manager1.salary, \"- Department:\", manager1.department)\n"
   ]
  },
  {
   "cell_type": "raw",
   "id": "6a2d0f1b-a298-4983-a156-7813d23a5090",
   "metadata": {},
   "source": [
    "15. Discuss the concept of method overloading in Python inheritance. How does it differ from method overriding?"
   ]
  },
  {
   "cell_type": "raw",
   "id": "4fee9857-ed9a-42fb-ab38-53a473dd729b",
   "metadata": {},
   "source": [
    "Method overloading in Python is not directly supported like in statically typed languages; it involves defining multiple methods with the same name but different parameters or argument types. Achieving overloading-like behavior in Python can be done using default arguments or variable-length argument lists. Method overriding occurs when a subclass provides a specific implementation of a method already defined in its superclass, altering its behavior. Overriding requires the subclass method to have the same signature as the superclass method and allows for dynamic behavior in inheritance hierarchies. Unlike method overriding, method overloading deals with multiple methods of the same name with different parameters within a single class."
   ]
  },
  {
   "cell_type": "raw",
   "id": "7493cd5b-ce58-4024-9646-90bc488bbc71",
   "metadata": {},
   "source": [
    "16. Explain the purpose of the `__init__()` method in Python inheritance and how it is utilized in child classes."
   ]
  },
  {
   "cell_type": "raw",
   "id": "a1e5983e-f980-4f9d-a0c4-a94c070890a0",
   "metadata": {},
   "source": [
    "The __init__() method in Python inheritance serves as the constructor, initializing object attributes when an instance is created. In child classes, it can be defined to extend or customize initialization, often invoking the superclass's __init__() method via super().__init__(). This method accepts arguments to set initial values for instance variables and plays a pivotal role in object instantiation and initialization. By leveraging __init__(), child classes can inherit and extend the behavior of their parent classes seamlessly, ensuring proper attribute initialization across the inheritance hierarchy."
   ]
  },
  {
   "cell_type": "raw",
   "id": "27db10cc-73ce-4ba2-ae87-60ed4fa99b3e",
   "metadata": {},
   "source": [
    "17. Create a Python class called `Bird` with a method `fly()`. Then, create child classes `Eagle` and `Sparrow` that inherit from `Bird` and implement the `fly()` method differently. Provide an example of using these\n",
    "classes."
   ]
  },
  {
   "cell_type": "code",
   "execution_count": 4,
   "id": "b8afeaec-d6c1-4dbf-b04f-3ca7e075ae2c",
   "metadata": {},
   "outputs": [
    {
     "name": "stdout",
     "output_type": "stream",
     "text": [
      "Generic Bird: Flying high in the sky\n",
      "Eagle: Soaring like an eagle\n",
      "Sparrow: Flitting through the air\n"
     ]
    }
   ],
   "source": [
    "class Bird:\n",
    "    def fly(self):\n",
    "        return \"Flying high in the sky\"\n",
    "\n",
    "class Eagle(Bird):\n",
    "    def fly(self):\n",
    "        return \"Soaring like an eagle\"\n",
    "\n",
    "class Sparrow(Bird):\n",
    "    def fly(self):\n",
    "        return \"Flitting through the air\"\n",
    "\n",
    "\n",
    "bird = Bird()\n",
    "print(\"Generic Bird:\", bird.fly())  \n",
    "\n",
    "eagle = Eagle()\n",
    "print(\"Eagle:\", eagle.fly()) \n",
    "\n",
    "sparrow = Sparrow()\n",
    "print(\"Sparrow:\", sparrow.fly()) \n"
   ]
  },
  {
   "cell_type": "raw",
   "id": "496b5c97-f48d-49df-85eb-409f46b226bb",
   "metadata": {},
   "source": [
    "18. What is the \"diamond problem\" in multiple inheritance, and how does Python address it?"
   ]
  },
  {
   "cell_type": "raw",
   "id": "0ace9e14-2cb5-464f-92c5-3a6e31ac3e7b",
   "metadata": {},
   "source": [
    "The \"diamond problem\" in multiple inheritance arises when a subclass inherits from two or more classes with a common ancestor, leading to ambiguity in method resolution. Python addresses this problem using the method resolution order (MRO) algorithm, based on the C3 superclass linearization algorithm. MRO ensures a consistent and deterministic order for method resolution, following a depth-first, left-to-right traversal of the inheritance graph. By determining the order in which methods should be searched in the inheritance hierarchy, Python provides a predictable approach to resolving conflicts in multiple inheritance scenarios. Developers can inspect the method resolution order using the __mro__ attribute of a class, enabling them to understand how methods will be resolved."
   ]
  },
  {
   "cell_type": "raw",
   "id": "58e0aab9-6f57-47fb-92e8-2eb378acc305",
   "metadata": {},
   "source": [
    "19. Discuss the concept of \"is-a\" and \"has-a\" relationships in inheritance, and provide examples of each."
   ]
  },
  {
   "cell_type": "raw",
   "id": "ee750af2-1917-440d-94e4-1159353bf85e",
   "metadata": {},
   "source": [
    "Inheritance represents an \"is-a\" relationship, where a subclass is a specialized form of its superclass, such as a Cat being a type of Animal. Composition signifies a \"has-a\" relationship, where a class contains objects of another class as its member variables, like a Car having an Engine. \"Is-a\" relationships are expressed through class inheritance, while \"has-a\" relationships are established through object composition, aiding in better code organization and abstraction in object-oriented programming. Understanding these relationships helps design more flexible and modular systems by capturing the inherent relationships between classes and objects effectively."
   ]
  },
  {
   "cell_type": "raw",
   "id": "da74437f-9e95-4e07-935c-2d0171dd5ccf",
   "metadata": {},
   "source": [
    "20. Create a Python class hierarchy for a university system. Start with a base class `Person` and create child classes `Student` and `Professor`, each with their own attributes and methods. Provide an example of using these classes in a university context."
   ]
  },
  {
   "cell_type": "code",
   "execution_count": null,
   "id": "1acd45e0-2fb0-49a8-8ff4-bdf491316150",
   "metadata": {},
   "outputs": [],
   "source": [
    "class Person:\n",
    "    def __init__(self, name, age):\n",
    "        self.name = name\n",
    "        self.age = age\n",
    "\n",
    "    def display_info(self):\n",
    "        print(f\"Name: {self.name}, Age: {self.age}\")\n",
    "\n",
    "class Student(Person):\n",
    "    def __init__(self, name, age, student_id):\n",
    "        super().__init__(name, age)\n",
    "        self.student_id = student_id\n",
    "\n",
    "    def display_info(self):\n",
    "        super().display_info()\n",
    "        print(f\"Student ID: {self.student_id}\")\n",
    "\n",
    "class Professor(Person):\n",
    "    def __init__(self, name, age, employee_id):\n",
    "        super().__init__(name, age)\n",
    "        self.employee_id = employee_id\n",
    "\n",
    "    def display_info(self):\n",
    "        super().display_info()\n",
    "        print(f\"Employee ID: {self.employee_id}\")\n",
    "\n",
    "student1 = Student(\"John Doe\", 20, \"S12345\")\n",
    "student1.display_info()\n",
    "\n",
    "professor1 = Professor(\"Dr. Jane Smith\", 40, \"P98765\")\n",
    "professor1.display_info()\n"
   ]
  },
  {
   "cell_type": "code",
   "execution_count": null,
   "id": "0dc83904-d794-4a03-9ed9-d4df9912b866",
   "metadata": {},
   "outputs": [],
   "source": [
    "Encapsulation:"
   ]
  },
  {
   "cell_type": "raw",
   "id": "56de35d6-1e6f-4ace-ac0f-1f346dfc2f26",
   "metadata": {},
   "source": [
    "1. Explain the concept of encapsulation in Python. What is its role in object-oriented programming?"
   ]
  },
  {
   "cell_type": "raw",
   "id": "af031350-5229-45c7-bbb8-3e42f7d9cb74",
   "metadata": {},
   "source": [
    "Encapsulation in Python involves bundling data and methods within a class, hiding the internal state of objects from external access. It enables access control through the use of access modifiers, such as public, private, and protected, ensuring data integrity and security. Encapsulation promotes information hiding, allowing for the modification of internal implementation details without affecting external code. By organizing code into modular units, encapsulation enhances code readability, maintainability, and scalability in object-oriented programming. It plays a vital role in building robust and maintainable software systems by fostering good design practices and reducing dependencies between components."
   ]
  },
  {
   "cell_type": "raw",
   "id": "61bfbe5d-0968-492d-9768-b038df01c3ca",
   "metadata": {},
   "source": [
    "2. Describe the key principles of encapsulation, including access control and data hiding."
   ]
  },
  {
   "cell_type": "raw",
   "id": "a52f4811-bfb2-42b6-a973-fc2b8de0e742",
   "metadata": {},
   "source": [
    "Encapsulation in object-oriented programming emphasizes access control and data hiding to promote robust and maintainable code.\n",
    "Access control mechanisms regulate the accessibility of attributes and methods within a class, distinguishing between public, private, and protected members.\n",
    "Data hiding shields the internal state of objects, preventing direct external access and manipulation.\n",
    "Encapsulation bundles data and methods into a single unit (class), facilitating modularity, abstraction, and code organization.\n",
    "Information hiding conceals the internal implementation details of a class, allowing for flexible and evolvable code while promoting code security and reusability."
   ]
  },
  {
   "cell_type": "raw",
   "id": "8c4a3ef7-ada2-4e87-99d1-87d325c7279a",
   "metadata": {},
   "source": [
    "3. How can you achieve encapsulation in Python classes? Provide an example."
   ]
  },
  {
   "cell_type": "code",
   "execution_count": null,
   "id": "c113b20a-67e6-46c4-983d-8dd411fd9e29",
   "metadata": {},
   "outputs": [],
   "source": [
    "class Car:\n",
    "    def __init__(self, make, model, year):\n",
    "        self._make = make\n",
    "        self._model = model\n",
    "        self._year = year\n",
    "        self.__odometer = 0\n",
    "\n",
    "    def get_odometer(self):\n",
    "        return self.__odometer\n",
    "\n",
    "    def set_odometer(self, value):\n",
    "        if value >= 0:\n",
    "            self.__odometer = value\n",
    "        else:\n",
    "            print(\"Odometer value cannot be negative.\")\n",
    "\n",
    "    def display_info(self):\n",
    "        print(f\"Make: {self._make}, Model: {self._model}, Year: {self._year}\")\n",
    "\n",
    "my_car = Car(\"Toyota\", \"Camry\", 2020)\n",
    "\n",
    "print(\"Make:\", my_car._make)\n",
    "print(\"Odometer:\", my_car.get_odometer())\n",
    "\n",
    "my_car.__odometer = -1000\n",
    "my_car.set_odometer(50000)\n",
    "\n",
    "my_car.display_info()\n"
   ]
  },
  {
   "cell_type": "raw",
   "id": "9b466eef-7871-436a-8679-33f4a1ed5ac8",
   "metadata": {},
   "source": [
    "4. Discuss the difference between public, private, and protected access modifiers in Python."
   ]
  },
  {
   "cell_type": "raw",
   "id": "2f27180b-cac7-4b0f-8e41-1413d7077529",
   "metadata": {},
   "source": [
    "In Python, public attributes and methods are accessible from outside the class, while private attributes and methods are only accessible within the class, denoted by a double underscore (__). Protected attributes and methods are accessible within the class and its subclasses, indicated by a single underscore (_). While Python does not strictly enforce access control, using access modifiers helps maintain encapsulation and code integrity. Public attributes and methods are default, private attributes and methods have a double underscore prefix, and protected attributes and methods use a single underscore prefix. Respect for encapsulation encourages developers to adhere to access modifiers for better code organization and maintainability."
   ]
  },
  {
   "cell_type": "raw",
   "id": "a52d01b8-d7d7-49af-a6fc-750ff07a9120",
   "metadata": {},
   "source": [
    "5. Create a Python class called `Person` with a private attribute `__name`. Provide methods to get and set the name attribute."
   ]
  },
  {
   "cell_type": "code",
   "execution_count": null,
   "id": "91384307-9b48-4d08-a268-018f89e0c3a8",
   "metadata": {},
   "outputs": [],
   "source": [
    "class Person:\n",
    "    def __init__(self, name):\n",
    "        self.__name = name\n",
    "\n",
    "    def get_name(self):\n",
    "        return self.__name\n",
    "\n",
    "    def set_name(self, name):\n",
    "        self.__name = name\n",
    "\n",
    "person = Person(\"John\")\n",
    "print(\"Initial Name:\", person.get_name())  \n",
    "\n",
    "person.set_name(\"Alice\")\n",
    "print(\"Updated Name:\", person.get_name()) \n"
   ]
  },
  {
   "cell_type": "raw",
   "id": "71e7f7a7-c396-4de1-984b-3bd78d8476a4",
   "metadata": {},
   "source": [
    "6. Explain the purpose of getter and setter methods in encapsulation. Provide examples."
   ]
  },
  {
   "cell_type": "code",
   "execution_count": 6,
   "id": "40ca3e6a-e16b-4b9c-bd74-0f2c56590693",
   "metadata": {},
   "outputs": [
    {
     "name": "stdout",
     "output_type": "stream",
     "text": [
      "Initial Name: John\n",
      "Updated Name: Alice\n",
      "Initial Age: 30\n",
      "Updated Age: 35\n"
     ]
    }
   ],
   "source": [
    "'''Getter and setter methods facilitate controlled access to private attributes in encapsulation, \n",
    "enabling retrieval and modification of attribute values while enforcing data integrity and encapsulation principles in object-oriented programming. \n",
    "They provide flexibility, security, and data validation, allowing objects to maintain a valid state and protect sensitive data from unauthorized access or modification.'''\n",
    "\n",
    "class Person:\n",
    "    def __init__(self, name, age):\n",
    "        self.__name = name\n",
    "        self.__age = age\n",
    "\n",
    "    def get_name(self):\n",
    "        return self.__name\n",
    "\n",
    "    def set_name(self, name):\n",
    "        if isinstance(name, str):\n",
    "            self.__name = name\n",
    "        else:\n",
    "            print(\"Name must be a string.\")\n",
    "\n",
    "    def get_age(self):\n",
    "        return self.__age\n",
    "\n",
    "    def set_age(self, age):\n",
    "        if age >= 0:\n",
    "            self.__age = age\n",
    "        else:\n",
    "            print(\"Age must be a non-negative integer.\")\n",
    "\n",
    "# Example usage:\n",
    "person = Person(\"John\", 30)\n",
    "print(\"Initial Name:\", person.get_name())  \n",
    "\n",
    "person.set_name(\"Alice\")\n",
    "print(\"Updated Name:\", person.get_name())  \n",
    "\n",
    "print(\"Initial Age:\", person.get_age())  \n",
    "\n",
    "person.set_age(35)\n",
    "print(\"Updated Age:\", person.get_age())     \n"
   ]
  },
  {
   "cell_type": "raw",
   "id": "f99209d0-6ed1-4707-a73b-475ecf87ae95",
   "metadata": {},
   "source": [
    "7. What is name mangling in Python, and how does it affect encapsulation?"
   ]
  },
  {
   "cell_type": "raw",
   "id": "8b431c2f-7eac-4132-9245-4c5f41ab09f5",
   "metadata": {},
   "source": [
    "Name mangling in Python alters the names of class members by adding a prefix of __ (double underscore) to avoid naming conflicts in subclasses, unless the name already starts and ends with double underscores. This process renames a member to _ClassName__memberName, aiming to make it unique. While name mangling aids encapsulation by making attributes private to the class where they're defined, it doesn't prevent access entirely but deters unintentional access from outside the class hierarchy, emphasizing data hiding principles. It's crucial to understand that name mangling primarily ensures name uniqueness rather than strict access control, allowing access to mangled names if known."
   ]
  },
  {
   "cell_type": "raw",
   "id": "ab72f2f8-7b96-484f-b190-fe27a148cc3e",
   "metadata": {},
   "source": [
    "8. Create a Python class called `BankAccount` with private attributes for the account balance (`__balance`) and account number(`__account_number`). Provide methods for depositing and withdrawing money."
   ]
  },
  {
   "cell_type": "code",
   "execution_count": 7,
   "id": "8845180c-c827-45e8-af77-18400553cc8a",
   "metadata": {},
   "outputs": [
    {
     "name": "stdout",
     "output_type": "stream",
     "text": [
      "Account Number: 123456789\n",
      "Initial Balance: 1000\n"
     ]
    }
   ],
   "source": [
    "class BankAccount:\n",
    "    def __init__(self, account_number, initial_balance=0):\n",
    "        self.__account_number = account_number\n",
    "        self.__balance = initial_balance\n",
    "\n",
    "    def deposit(self, amount):\n",
    "        if amount > 0:\n",
    "            self.__balance += amount\n",
    "\n",
    "    def withdraw(self, amount):\n",
    "        if 0 < amount <= self.__balance:\n",
    "            self.__balance -= amount\n",
    "\n",
    "    def get_balance(self):\n",
    "        return self.__balance\n",
    "\n",
    "    def get_account_number(self):\n",
    "        return self.__account_number\n",
    "\n",
    "\n",
    "account = BankAccount(\"123456789\", 1000)\n",
    "print(\"Account Number:\", account.get_account_number())\n",
    "print(\"Initial Balance:\", account.get_balance())\n",
    "\n",
    "account.deposit(500)\n",
    "account.withdraw(200)\n",
    "account.withdraw(2000)\n"
   ]
  },
  {
   "cell_type": "raw",
   "id": "ed68b34b-8b75-427b-ad66-6c2b2532698e",
   "metadata": {},
   "source": [
    "9. Discuss the advantages of encapsulation in terms of code maintainability and security."
   ]
  },
  {
   "cell_type": "raw",
   "id": "0d4d4a1c-832c-4710-b211-76cb01774727",
   "metadata": {},
   "source": [
    "Encapsulation improves code maintainability and security by hiding internal details and controlling access to data within classes. It promotes modularity and abstraction, allowing developers to work on individual components independently and focus on functionality rather than implementation details. By encapsulating data and behavior within classes, encapsulation enhances code reusability and scalability, enabling efficient development and maintenance of software systems. It ensures data integrity and reduces the risk of unintended modifications, enhancing code robustness and reliability in complex applications. Overall, encapsulation fosters good design practices and contributes to building robust, maintainable, and secure software solutions."
   ]
  },
  {
   "cell_type": "raw",
   "id": "0a0fe8b9-ad31-488d-8e03-6752e59e5467",
   "metadata": {},
   "source": [
    "10. How can you access private attributes in Python? Provide an example demonstrating the use of name mangling."
   ]
  },
  {
   "cell_type": "code",
   "execution_count": 8,
   "id": "968e9a98-77c9-43cd-a28c-390f28ee8d33",
   "metadata": {},
   "outputs": [
    {
     "name": "stdout",
     "output_type": "stream",
     "text": [
      "10\n"
     ]
    }
   ],
   "source": [
    "class MyClass:\n",
    "    def __init__(self):\n",
    "        self.__private_attr = 10\n",
    "\n",
    "print(MyClass()._MyClass__private_attr)"
   ]
  },
  {
   "cell_type": "raw",
   "id": "01e88b3a-a38e-4d56-b213-c4f829908dd3",
   "metadata": {},
   "source": [
    "11. Create a Python class hierarchy for a school system, including classes for students, teachers, and courses, and implement encapsulation principles to protect sensitive information."
   ]
  },
  {
   "cell_type": "code",
   "execution_count": 10,
   "id": "f1f7d822-a371-4eea-b44f-a9317889438c",
   "metadata": {},
   "outputs": [
    {
     "name": "stdout",
     "output_type": "stream",
     "text": [
      "Student: Ashok Laha , Age: 18 , Student ID: S456\n",
      "Teacher: Dipanjan Pathak , Age: 35 , Teacher ID: T123\n",
      "Course: Mathematics , Course Code: MATH101\n",
      "Taught by: Dipanjan Pathak\n"
     ]
    }
   ],
   "source": [
    "class Person:\n",
    "    def __init__(self, name, age):\n",
    "        self._name = name\n",
    "        self._age = age\n",
    "\n",
    "    def get_name(self):\n",
    "        return self._name\n",
    "\n",
    "    def get_age(self):\n",
    "        return self._age\n",
    "\n",
    "\n",
    "class Student(Person):\n",
    "    def __init__(self, name, age, student_id):\n",
    "        super().__init__(name, age)\n",
    "        self._student_id = student_id\n",
    "\n",
    "    def get_student_id(self):\n",
    "        return self._student_id\n",
    "\n",
    "\n",
    "class Teacher(Person):\n",
    "    def __init__(self, name, age, teacher_id):\n",
    "        super().__init__(name, age)\n",
    "        self._teacher_id = teacher_id\n",
    "\n",
    "    def get_teacher_id(self):\n",
    "        return self._teacher_id\n",
    "\n",
    "\n",
    "class Course:\n",
    "    def __init__(self, course_name, course_code, teacher):\n",
    "        self._course_name = course_name\n",
    "        self._course_code = course_code\n",
    "        self._teacher = teacher\n",
    "\n",
    "    def get_course_name(self):\n",
    "        return self._course_name\n",
    "\n",
    "    def get_course_code(self):\n",
    "        return self._course_code\n",
    "\n",
    "    def get_teacher(self):\n",
    "        return self._teacher\n",
    "\n",
    "\n",
    "\n",
    "teacher = Teacher(\"Dipanjan Pathak\", 35, \"T123\")\n",
    "student = Student(\"Ashok Laha\", 18, \"S456\")\n",
    "course = Course(\"Mathematics\", \"MATH101\", teacher)\n",
    "\n",
    "print(\"Student:\", student.get_name(), \", Age:\", student.get_age(), \", Student ID:\", student.get_student_id())\n",
    "print(\"Teacher:\", teacher.get_name(), \", Age:\", teacher.get_age(), \", Teacher ID:\", teacher.get_teacher_id())\n",
    "print(\"Course:\", course.get_course_name(), \", Course Code:\", course.get_course_code())\n",
    "print(\"Taught by:\", course.get_teacher().get_name())\n"
   ]
  },
  {
   "cell_type": "raw",
   "id": "037b61e7-814c-4206-b9e6-8df413eb13a2",
   "metadata": {},
   "source": [
    "12. Explain the concept of property decorators in Python and how they relate to encapsulation."
   ]
  },
  {
   "cell_type": "raw",
   "id": "c93878ab-e548-42ba-99d5-e38542025f99",
   "metadata": {},
   "source": [
    "Property decorators in Python, such as @property, @<property_name>.setter, and @<property_name>.deleter, allow the definition of attributes with custom getter, setter, and deleter methods.\n",
    "They enable encapsulation by providing controlled access to attributes, allowing validation, computation, and cleanup operations before attribute access, assignment, or deletion.\n",
    "Using property decorators, we can define properties that behave like attributes but have custom behavior, promoting data integrity and encapsulation principles in Python classes.\n",
    "Property decorators facilitate the creation of computed attributes, validate attribute values before setting them, and perform cleanup operations when deleting attributes, enhancing code flexibility and maintainability.\n",
    "By encapsulating attribute access with property decorators, developers can ensure controlled access to attributes, enforcing data integrity and reducing the risk of unintended modifications in Python classes."
   ]
  },
  {
   "cell_type": "raw",
   "id": "0c38d6d0-66f1-4132-9636-43ede9a4884a",
   "metadata": {},
   "source": [
    "13. What is data hiding, and why is it important in encapsulation? Provide examples."
   ]
  },
  {
   "cell_type": "code",
   "execution_count": null,
   "id": "a420192e-fcca-48df-8ac9-b2426bcb166c",
   "metadata": {},
   "outputs": [],
   "source": [
    "'''Data hiding in encapsulation restricts access to internal attributes or methods of a class, preventing direct modification from outside code. It enhances security, modularity, and maintainability by encapsulating sensitive information and providing controlled access through well-defined interfaces. Encapsulation with data hiding promotes code reusability and reduces dependencies, contributing to the overall robustness and reliability of software systems.'''\n",
    "\n",
    "class BankAccount:\n",
    "    def __init__(self, account_number, initial_balance=0):\n",
    "        self.__account_number = account_number\n",
    "        self.__balance = initial_balance       \n",
    "\n",
    "    def deposit(self, amount):\n",
    "        if amount > 0:\n",
    "            self.__balance += amount\n",
    "\n",
    "    def withdraw(self, amount):\n",
    "        if 0 < amount <= self.__balance:\n",
    "            self.__balance -= amount\n",
    "\n",
    "    def get_balance(self):\n",
    "        return self.__balance\n",
    "\n",
    "    def get_account_number(self):\n",
    "        return self.__account_number\n"
   ]
  },
  {
   "cell_type": "raw",
   "id": "7842934b-84fa-471b-bd57-8661a5c1ac3f",
   "metadata": {},
   "source": [
    "14. Create a Python class called `Employee` with private attributes for salary (`__salary`) and employee ID (`__employee_id`). Provide a method to calculate yearly bonuses."
   ]
  },
  {
   "cell_type": "code",
   "execution_count": null,
   "id": "9dafee8f-baf7-452b-afd5-4d34be6fa8aa",
   "metadata": {},
   "outputs": [],
   "source": [
    "class Employee:\n",
    "    def __init__(self, employee_id, salary):\n",
    "        self.__employee_id = employee_id\n",
    "        self.__salary = salary\n",
    "\n",
    "    def calculate_yearly_bonus(self, bonus_percentage):\n",
    "        yearly_bonus = (bonus_percentage / 100) * self.__salary\n",
    "        return yearly_bonus\n",
    "\n",
    "\n",
    "employee = Employee(\"E1234\", 50000)\n",
    "bonus_percentage = 10\n",
    "yearly_bonus = employee.calculate_yearly_bonus(bonus_percentage)\n",
    "print(f\"Yearly bonus for employee {employee._Employee__employee_id}: ${yearly_bonus}\")\n"
   ]
  },
  {
   "cell_type": "raw",
   "id": "c70ea8ab-8a6e-493d-aa7c-90477bacb9b4",
   "metadata": {},
   "source": [
    "15. Discuss the use of accessors and mutators in encapsulation. How do they help maintain control over attribute access?"
   ]
  },
  {
   "cell_type": "raw",
   "id": "d1d5b772-b722-47d9-8293-6797d3479e73",
   "metadata": {},
   "source": [
    "Accessors (getters) retrieve the value of private attributes, providing controlled read access within a class. Mutators (setters) modify the value of private attributes, offering controlled write access with validation logic. They encapsulate attribute access, preventing direct modification from outside the class, promoting data integrity and security. Accessors and mutators abstract the internal representation of data, allowing changes without affecting external code, enhancing code maintainability. By enforcing encapsulation principles, accessors and mutators help maintain control over attribute access and ensure secure and consistent data manipulation within classes."
   ]
  },
  {
   "cell_type": "raw",
   "id": "8fb6f2be-10ab-4617-ac0f-03ec969d37d2",
   "metadata": {},
   "source": [
    "16. What are the potential drawbacks or disadvantages of using encapsulation in Python?"
   ]
  },
  {
   "cell_type": "raw",
   "id": "d259b880-47b5-413b-bcda-cd324fe07f35",
   "metadata": {},
   "source": [
    "Encapsulation in Python can lead to complexity due to increased class hierarchies and verbose code. Using getter and setter methods can introduce a performance overhead compared to direct attribute access. Implementing encapsulation often results in boilerplate code, reducing code readability and increasing development time. Restricted access to attributes may hinder debugging and inspection of object state, especially in complex systems. Careful consideration is needed to balance the benefits of encapsulation against its potential drawbacks in Python development."
   ]
  },
  {
   "cell_type": "raw",
   "id": "b85d4d0d-95de-4a74-ad2c-44e0b7ab8da0",
   "metadata": {},
   "source": [
    "17. Create a Python class for a library system that encapsulates book information, including titles, authors, and availability status."
   ]
  },
  {
   "cell_type": "code",
   "execution_count": null,
   "id": "af7b53d2-ae35-4242-80e2-8378126f1cdf",
   "metadata": {},
   "outputs": [],
   "source": [
    "class Book:\n",
    "    def __init__(self, title, author, availability=True):\n",
    "        self.__title = title\n",
    "        self.__author = author\n",
    "        self.__availability = availability\n",
    "\n",
    "    def get_title(self):\n",
    "        return self.__title\n",
    "\n",
    "    def get_author(self):\n",
    "        return self.__author\n",
    "\n",
    "    def is_available(self):\n",
    "        return self.__availability\n",
    "\n",
    "    def borrow_book(self):\n",
    "        if self.__availability:\n",
    "            self.__availability = False\n",
    "            print(f\"Book '{self.__title}' by {self.__author} has been borrowed.\")\n",
    "        else:\n",
    "            print(f\"Book '{self.__title}' by {self.__author} is currently unavailable.\")\n",
    "\n",
    "    def return_book(self):\n",
    "        if not self.__availability:\n",
    "            self.__availability = True\n",
    "            print(f\"Book '{self.__title}' by {self.__author} has been returned.\")\n",
    "        else:\n",
    "            print(f\"Book '{self.__title}' by {self.__author} is already available.\")\n",
    "\n",
    "\n",
    "book1 = Book(\"The Great Gatsby\", \"F. Scott Fitzgerald\")\n",
    "book2 = Book(\"To Kill a Mockingbird\", \"Harper Lee\")\n",
    "\n",
    "print(\"Book Title:\", book1.get_title())\n",
    "print(\"Book Author:\", book1.get_author())\n",
    "print(\"Availability:\", \"Available\" if book1.is_available() else \"Not Available\")\n",
    "\n",
    "book1.borrow_book()\n",
    "book1.borrow_book()  \n",
    "book1.return_book() \n"
   ]
  },
  {
   "cell_type": "raw",
   "id": "d5ff13d5-0b7f-4846-9832-50d667a7f131",
   "metadata": {},
   "source": [
    "18. Explain how encapsulation enhances code reusability and modularity in Python programs."
   ]
  },
  {
   "cell_type": "raw",
   "id": "befc5595-8ba0-4124-b25b-a3aeb3ff35b5",
   "metadata": {},
   "source": [
    "Encapsulation in Python promotes code reusability by bundling related data and behaviors into cohesive classes, allowing them to be reused across different parts of the program.\n",
    "By encapsulating implementation details within classes, encapsulation abstracts away complexity, making it easier to understand and reuse code modules.\n",
    "Encapsulation fosters modularity by providing well-defined interfaces for interacting with objects, reducing dependencies between different parts of the program.\n",
    "Encapsulated classes can be easily integrated into new programs or extended to accommodate changing requirements without affecting existing code.\n",
    "Encapsulation encourages separation of concerns, enabling developers to focus on specific functionalities within isolated components, promoting code maintainability and scalability."
   ]
  },
  {
   "cell_type": "raw",
   "id": "681f34f0-1718-4d95-8c24-38747f15504c",
   "metadata": {},
   "source": [
    "19. Describe the concept of information hiding in encapsulation. Why is it essential in software development?"
   ]
  },
  {
   "cell_type": "raw",
   "id": "b4183f72-f15a-408c-8766-4fa55b431464",
   "metadata": {},
   "source": [
    "Information hiding in encapsulation limits access to internal details of classes, exposing only necessary interfaces for interaction. It enhances security by preventing unauthorized access to sensitive data and implementation details. Essential in software development, it simplifies complexity, promotes abstraction, and facilitates modular design. By shielding internal complexities, it enables easier maintenance and promotes code reusability across different contexts. Information hiding is fundamental in building robust, maintainable, and scalable software systems."
   ]
  },
  {
   "cell_type": "raw",
   "id": "58430d2a-ef5b-4b4f-af95-ea8f3255f06b",
   "metadata": {},
   "source": [
    "20. Create a Python class called `Customer` with private attributes for customer details like name, address, and contact information. Implement encapsulation to ensure data integrity and security."
   ]
  },
  {
   "cell_type": "code",
   "execution_count": null,
   "id": "8fd4f53b-0a8f-437b-b1cf-37268b864782",
   "metadata": {},
   "outputs": [],
   "source": [
    "class Customer:\n",
    "    def __init__(self, name, address, contact):\n",
    "        self.__name = name\n",
    "        self.__address = address\n",
    "        self.__contact = contact\n",
    "\n",
    "    def get_name(self):\n",
    "        return self.__name\n",
    "\n",
    "    def get_address(self):\n",
    "        return self.__address\n",
    "\n",
    "    def get_contact(self):\n",
    "        return self.__contact\n",
    "\n",
    "    def update_address(self, new_address):\n",
    "        self.__address = new_address\n",
    "\n",
    "    def update_contact(self, new_contact):\n",
    "        self.__contact = new_contact\n",
    "\n",
    "\n",
    "customer1 = Customer(\"John Doe\", \"123 Main Street\", \"123-456-7890\")\n",
    "\n",
    "print(\"Customer Name:\", customer1.get_name())\n",
    "print(\"Customer Address:\", customer1.get_address())\n",
    "print(\"Customer Contact:\", customer1.get_contact())\n",
    "\n",
    "customer1.update_address(\"456 Elm Street\")\n",
    "customer1.update_contact(\"987-654-3210\")\n",
    "\n",
    "print(\"Updated Customer Address:\", customer1.get_address())\n",
    "print(\"Updated Customer Contact:\", customer1.get_contact())\n"
   ]
  },
  {
   "cell_type": "raw",
   "id": "89a7c266-b9dc-4b0c-ab89-ce1fef67ab0b",
   "metadata": {},
   "source": [
    "Polymorphism:"
   ]
  },
  {
   "cell_type": "raw",
   "id": "0628cde4-b855-4d12-9eeb-430363eebc7b",
   "metadata": {},
   "source": [
    "1. What is polymorphism in Python? Explain how it is related to object-oriented programming."
   ]
  },
  {
   "cell_type": "raw",
   "id": "a73a9861-ed50-49cd-98e0-64fdf0fe2efb",
   "metadata": {},
   "source": [
    "Polymorphism in Python enables objects of different classes to respond to the same method or function call in different ways, fostering code flexibility and extensibility. It's a core principle of object-oriented programming, closely related to inheritance and method overriding. By allowing objects to be treated uniformly through a common interface, polymorphism promotes code reuse, abstraction, and modular design. This approach simplifies code maintenance and extension, as it facilitates interaction with objects without knowledge of their specific types or classes. Overall, polymorphism enhances code readability, flexibility, and scalability in object-oriented programming paradigms."
   ]
  },
  {
   "cell_type": "raw",
   "id": "00cbe2db-1b74-4d79-a5e5-9a3879b8a2a8",
   "metadata": {},
   "source": [
    "2. Describe the difference between compile-time polymorphism and runtime polymorphism in Python."
   ]
  },
  {
   "cell_type": "raw",
   "id": "1ac34395-961e-4926-b7a5-70119feefac9",
   "metadata": {},
   "source": [
    "Compile-time polymorphism, or static polymorphism, resolves method calls and type checks during compilation, typical in languages like C++ with function overloading. Runtime polymorphism, or dynamic polymorphism, resolves method calls based on the actual object type during program execution, facilitated through method overriding in Python. While compile-time polymorphism is resolved at compile time, runtime polymorphism dynamically determines method implementations based on the object being referenced. Compile-time polymorphism involves static method binding, whereas runtime polymorphism involves dynamic method binding, providing flexibility in method resolution in object-oriented programming paradigms. In Python, runtime polymorphism is prevalent due to the language's dynamic nature and support for method overriding, allowing for more flexible and dynamic method resolution at runtime."
   ]
  },
  {
   "cell_type": "raw",
   "id": "471609df-a1e0-444c-a19e-42b258876217",
   "metadata": {},
   "source": [
    "3. Create a Python class hierarchy for shapes (e.g., circle, square, triangle) and demonstrate polymorphism through a common method, such as `calculate_area()`."
   ]
  },
  {
   "cell_type": "code",
   "execution_count": null,
   "id": "51e4eb9e-91fd-4e87-84fc-4d95be0e12d2",
   "metadata": {},
   "outputs": [],
   "source": [
    "import math\n",
    "\n",
    "class Shape:\n",
    "    def calculate_area(self):\n",
    "        pass\n",
    "\n",
    "class Circle(Shape):\n",
    "    def __init__(self, radius):\n",
    "        self.radius = radius\n",
    "\n",
    "    def calculate_area(self):\n",
    "        return math.pi * self.radius ** 2\n",
    "\n",
    "class Square(Shape):\n",
    "    def __init__(self, side_length):\n",
    "        self.side_length = side_length\n",
    "\n",
    "    def calculate_area(self):\n",
    "        return self.side_length ** 2\n",
    "\n",
    "class Triangle(Shape):\n",
    "    def __init__(self, base, height):\n",
    "        self.base = base\n",
    "        self.height = height\n",
    "\n",
    "    def calculate_area(self):\n",
    "        return 0.5 * self.base * self.height\n",
    "\n",
    "\n",
    "circle = Circle(5)\n",
    "square = Square(4)\n",
    "triangle = Triangle(3, 6)\n",
    "\n",
    "print(\"Area of Circle:\", circle.calculate_area())\n",
    "print(\"Area of Square:\", square.calculate_area())\n",
    "print(\"Area of Triangle:\", triangle.calculate_area())"
   ]
  },
  {
   "cell_type": "raw",
   "id": "d070a0de-0116-489f-9125-65de83262bda",
   "metadata": {},
   "source": [
    "4. Explain the concept of method overriding in polymorphism. Provide an example."
   ]
  },
  {
   "cell_type": "code",
   "execution_count": 11,
   "id": "92a2dc8d-b1fa-4c59-97e6-33585fbd0e17",
   "metadata": {},
   "outputs": [
    {
     "name": "stdout",
     "output_type": "stream",
     "text": [
      "The animal makes a sound\n",
      "The dog barks\n",
      "The cat meows\n"
     ]
    }
   ],
   "source": [
    "'''Method overriding in polymorphism allows a subclass to redefine a method inherited from its superclass with a specific implementation.\n",
    "It requires inheritance and ensures that method calls are dynamically dispatched based on the object's actual type at runtime. Method signatures in the subclass \n",
    "must match those in the superclass, maintaining compatibility. By providing more specialized behavior, method overriding promotes code extensibility and flexibility in \n",
    "object-oriented programming. Polymorphism through method overriding enables objects of different types to respond to the same method call differently, enhancing code \n",
    "reusability and readability.'''\n",
    "\n",
    "class Animal:\n",
    "    def speak(self):\n",
    "        print(\"The animal makes a sound\")\n",
    "\n",
    "class Dog(Animal):\n",
    "    def speak(self):\n",
    "        print(\"The dog barks\")\n",
    "\n",
    "class Cat(Animal):\n",
    "    def speak(self):\n",
    "        print(\"The cat meows\")\n",
    "\n",
    "animal = Animal()\n",
    "dog = Dog()\n",
    "cat = Cat()\n",
    "\n",
    "animal.speak()  \n",
    "dog.speak()   \n",
    "cat.speak()     \n"
   ]
  },
  {
   "cell_type": "raw",
   "id": "6c30cfab-cea2-46c5-a35b-ae784882ce4b",
   "metadata": {},
   "source": [
    "5. How is polymorphism different from method overloading in Python? Provide examples for both."
   ]
  },
  {
   "cell_type": "raw",
   "id": "90c7c600-cd84-4a1d-a05e-2dbed9b87b0d",
   "metadata": {},
   "source": [
    "Polymorphism:\n",
    "Polymorphism refers to the ability of different objects to respond to the same method or function call in different ways.\n",
    "It is achieved through method overriding, where a subclass provides its own implementation of a method defined in its superclass.\n",
    "Polymorphism allows for dynamic method dispatch, where the appropriate method implementation is determined based on the actual object's type at runtime.\n",
    "Example of polymorphism:\n",
    "\n",
    "class Animal:\n",
    "    def speak(self):\n",
    "        print(\"The animal makes a sound\")\n",
    "\n",
    "class Dog(Animal):\n",
    "    def speak(self):\n",
    "        print(\"The dog barks\")\n",
    "\n",
    "class Cat(Animal):\n",
    "    def speak(self):\n",
    "        print(\"The cat meows\")\n",
    "\n",
    "\n",
    "animal = Animal()\n",
    "dog = Dog()\n",
    "cat = Cat()\n",
    "\n",
    "animal.speak() \n",
    "dog.speak()    \n",
    "cat.speak()    \n",
    "\n",
    "\n",
    "Method Overloading:\n",
    "Method overloading refers to the ability to define multiple methods with the same name but with different parameters or argument types within a single class.\n",
    "Python does not support method overloading by default as seen in languages like Java or C++, where the method signature can vary based on the parameters passed.\n",
    "In Python, method overloading can be simulated using default parameter values or variable-length argument lists.\n",
    "Example of method overloading (simulated):\n",
    "\n",
    "\n",
    "class Calculator:\n",
    "    def add(self, a, b):\n",
    "        return a + b\n",
    "\n",
    "    def add(self, a, b, c):\n",
    "        return a + b + c\n",
    "\n",
    "calc = Calculator()\n",
    "print(calc.add(2, 3))      \n",
    "print(calc.add(2, 3, 4))   \n"
   ]
  },
  {
   "cell_type": "raw",
   "id": "f00cba01-5af9-4d05-b214-89ab9cf6dcdd",
   "metadata": {},
   "source": [
    "6. Create a Python class called `Animal` with a method `speak()`. Then, create child classes like `Dog`, `Cat`, and `Bird`, each with their own `speak()` method. Demonstrate polymorphism by calling the `speak()` methodon objects of different subclasses."
   ]
  },
  {
   "cell_type": "code",
   "execution_count": null,
   "id": "2bfa38a7-ebba-48b9-90dc-b4c5980c7f53",
   "metadata": {},
   "outputs": [],
   "source": [
    "class Animal:\n",
    "    def speak(self):\n",
    "        pass\n",
    "\n",
    "class Dog(Animal):\n",
    "    def speak(self):\n",
    "        return \"The dog barks\"\n",
    "\n",
    "class Cat(Animal):\n",
    "    def speak(self):\n",
    "        return \"The cat meows\"\n",
    "\n",
    "class Bird(Animal):\n",
    "    def speak(self):\n",
    "        return \"The bird chirps\"\n",
    "\n",
    "\n",
    "dog = Dog()\n",
    "cat = Cat()\n",
    "bird = Bird()\n",
    "\n",
    "print(dog.speak())    \n",
    "print(cat.speak())  \n",
    "print(bird.speak())   \n"
   ]
  },
  {
   "cell_type": "raw",
   "id": "d5a1dfb2-6b85-4051-8df6-2573a9b64c28",
   "metadata": {},
   "source": [
    "7. Discuss the use of abstract methods and classes in achieving polymorphism in Python. Provide an example using the `abc` module."
   ]
  },
  {
   "cell_type": "code",
   "execution_count": 12,
   "id": "62c05980-04f1-481f-9b93-c7b54b8fc21a",
   "metadata": {},
   "outputs": [
    {
     "name": "stdout",
     "output_type": "stream",
     "text": [
      "The dog barks\n",
      "The cat meows\n",
      "The bird chirps\n"
     ]
    }
   ],
   "source": [
    "'''Abstract methods and classes are fundamental in achieving polymorphism and enforcing a common interface among related classes in Python. They allow us to define methods that must be implemented by subclasses, ensuring that subclasses adhere to a specific contract or interface.\n",
    "\n",
    "The abc module in Python provides the necessary tools for working with abstract classes and methods through the ABC (Abstract Base Class) and abstractmethod decorators.\n",
    "\n",
    "Here's an example demonstrating the use of abstract methods and classes to achieve polymorphism:'''\n",
    "from abc import ABC, abstractmethod\n",
    "\n",
    "class Animal(ABC):\n",
    "    @abstractmethod\n",
    "    def speak(self):\n",
    "        pass\n",
    "\n",
    "class Dog(Animal):\n",
    "    def speak(self):\n",
    "        return \"The dog barks\"\n",
    "\n",
    "class Cat(Animal):\n",
    "    def speak(self):\n",
    "        return \"The cat meows\"\n",
    "\n",
    "class Bird(Animal):\n",
    "    def speak(self):\n",
    "        return \"The bird chirps\"\n",
    "\n",
    "dog = Dog()\n",
    "cat = Cat()\n",
    "bird = Bird()\n",
    "\n",
    "print(dog.speak())    \n",
    "print(cat.speak())   \n",
    "print(bird.speak())   \n"
   ]
  },
  {
   "cell_type": "raw",
   "id": "dba26a8a-cbf4-446e-967f-e19f1884b7c2",
   "metadata": {},
   "source": [
    "8. Create a Python class hierarchy for a vehicle system (e.g., car, bicycle, boat) and implement a polymorphic `start()` method that prints a message specific to each vehicle type."
   ]
  },
  {
   "cell_type": "code",
   "execution_count": 13,
   "id": "c8af55f5-f001-43e7-a67e-c5f4526176e4",
   "metadata": {},
   "outputs": [
    {
     "name": "stdout",
     "output_type": "stream",
     "text": [
      "The car engine starts.\n",
      "The bicycle pedals start moving.\n",
      "The boat engine roars to life.\n"
     ]
    }
   ],
   "source": [
    "class Vehicle:\n",
    "    def start(self):\n",
    "        pass\n",
    "\n",
    "class Car(Vehicle):\n",
    "    def start(self):\n",
    "        return \"The car engine starts.\"\n",
    "\n",
    "class Bicycle(Vehicle):\n",
    "    def start(self):\n",
    "        return \"The bicycle pedals start moving.\"\n",
    "\n",
    "class Boat(Vehicle):\n",
    "    def start(self):\n",
    "        return \"The boat engine roars to life.\"\n",
    "\n",
    "\n",
    "car = Car()\n",
    "bicycle = Bicycle()\n",
    "boat = Boat()\n",
    "\n",
    "print(car.start())     \n",
    "print(bicycle.start())  \n",
    "print(boat.start())   "
   ]
  },
  {
   "cell_type": "raw",
   "id": "d570248e-68d0-4b35-9c4a-5f58bc2e5653",
   "metadata": {},
   "source": [
    "9. Explain the significance of the `isinstance()` and `issubclass()` functions in Python polymorphism."
   ]
  },
  {
   "cell_type": "raw",
   "id": "c3bd86e8-232f-4306-aac8-1b892922e4bb",
   "metadata": {},
   "source": [
    "The isinstance() function in Python checks if an object belongs to a particular class or its subclasses, aiding in dynamic type checking. It returns True if the object is an instance of the specified class or any of its subclasses, otherwise False. issubclass() determines if a class is a subclass of another class or if they are the same class, offering insights into class hierarchies. It returns True if the first class is a subclass of the second class or if they are the same class, otherwise False. Both functions are significant in polymorphism, allowing flexible handling of objects and understanding of class relationships dynamically."
   ]
  },
  {
   "cell_type": "raw",
   "id": "2952654b-4ea3-4f80-a02e-be6d1aadbcfb",
   "metadata": {},
   "source": [
    "10. What is the role of the `@abstractmethod` decorator in achieving polymorphism in Python? Provide an example."
   ]
  },
  {
   "cell_type": "raw",
   "id": "100fa7ce-f7b6-47fe-a8b0-d3fa99da7bba",
   "metadata": {},
   "source": [
    "The @abstractmethod decorator is crucial in achieving polymorphism in Python as it allows us to define abstract methods in abstract base classes. Abstract methods serve as placeholders that must be implemented by concrete subclasses, ensuring adherence to a common interface.\n",
    "\n",
    "Here's the role of @abstractmethod decorator in achieving polymorphism:\n",
    "\n",
    "Defines Abstract Methods: The @abstractmethod decorator is used to mark a method as abstract within an abstract base class.\n",
    "\n",
    "Enforces Method Implementation: Abstract methods defined with @abstractmethod must be implemented by concrete subclasses. This ensures that subclasses adhere to a common interface and provide their specific implementations.\n",
    "\n",
    "Facilitates Polymorphic Behavior: By enforcing a common interface through abstract methods, the @abstractmethod decorator enables polymorphic behavior. Objects of different subclasses can be treated uniformly, allowing dynamic method dispatch based on the actual object type.\n",
    "\n",
    "\n",
    "from abc import ABC, abstractmethod\n",
    "\n",
    "class Shape(ABC):\n",
    "    @abstractmethod\n",
    "    def area(self):\n",
    "        pass\n",
    "\n",
    "class Circle(Shape):\n",
    "    def __init__(self, radius):\n",
    "        self.radius = radius\n",
    "\n",
    "    def area(self):\n",
    "        return 3.14 * self.radius ** 2\n",
    "\n",
    "class Rectangle(Shape):\n",
    "    def __init__(self, length, width):\n",
    "        self.length = length\n",
    "        self.width = width\n",
    "\n",
    "    def area(self):\n",
    "        return self.length * self.width\n",
    "\n",
    "\n",
    "circle = Circle(5)\n",
    "rectangle = Rectangle(4, 6)\n",
    "\n",
    "print(\"Area of Circle:\", circle.area())         \n",
    "print(\"Area of Rectangle:\", rectangle.area())   \n"
   ]
  },
  {
   "cell_type": "raw",
   "id": "6e535bf8-095f-4004-b167-59b467712b61",
   "metadata": {},
   "source": [
    "11. Create a Python class called `Shape` with a polymorphic method `area()` that calculates the area of different shapes (e.g., circle, rectangle, triangle)."
   ]
  },
  {
   "cell_type": "code",
   "execution_count": null,
   "id": "5bd486d9-f528-4af5-9489-57765f8f23f9",
   "metadata": {},
   "outputs": [],
   "source": [
    "import math\n",
    "\n",
    "class Shape:\n",
    "    def area(self):\n",
    "        pass\n",
    "\n",
    "class Circle(Shape):\n",
    "    def __init__(self, radius):\n",
    "        self.radius = radius\n",
    "\n",
    "    def area(self):\n",
    "        return math.pi * self.radius ** 2\n",
    "\n",
    "class Rectangle(Shape):\n",
    "    def __init__(self, length, width):\n",
    "        self.length = length\n",
    "        self.width = width\n",
    "\n",
    "    def area(self):\n",
    "        return self.length * self.width\n",
    "\n",
    "class Triangle(Shape):\n",
    "    def __init__(self, base, height):\n",
    "        self.base = base\n",
    "        self.height = height\n",
    "\n",
    "    def area(self):\n",
    "        return 0.5 * self.base * self.height\n",
    "\n",
    "\n",
    "circle = Circle(5)\n",
    "rectangle = Rectangle(4, 6)\n",
    "triangle = Triangle(3, 6)\n",
    "\n",
    "print(\"Area of Circle:\", circle.area())       \n",
    "print(\"Area of Rectangle:\", rectangle.area())\n",
    "print(\"Area of Triangle:\", triangle.area())   \n"
   ]
  },
  {
   "cell_type": "raw",
   "id": "fce615b5-5b01-4a06-9bce-3445974ccfd7",
   "metadata": {},
   "source": [
    "12. Discuss the benefits of polymorphism in terms of code reusability and flexibility in Python programs."
   ]
  },
  {
   "cell_type": "raw",
   "id": "0d16e588-fdc6-4049-ba91-b17d2acce285",
   "metadata": {},
   "source": [
    "Polymorphism in Python fosters code reusability by allowing methods to accept objects of different classes that share a common interface. It enhances flexibility by enabling the same code to work with different types of objects interchangeably. Polymorphism simplifies code maintenance by decoupling the implementation details of objects from the code that uses them. It improves code readability by promoting a modular and abstract design, making programs easier to understand. Ultimately, polymorphism promotes scalability by facilitating the addition of new functionality through subclassing without modifying existing code."
   ]
  },
  {
   "cell_type": "raw",
   "id": "6fed1b7d-af35-48b4-8134-32dfdda39a0c",
   "metadata": {},
   "source": [
    "13. Explain the use of the `super()` function in Python polymorphism. How does it help call methods of parent classes?"
   ]
  },
  {
   "cell_type": "raw",
   "id": "2e774a67-5d67-4fd2-b06d-46edc0f86728",
   "metadata": {},
   "source": [
    "The super() function in Python enables subclasses to access and call methods defined in their parent classes, supporting polymorphic behavior. It maintains the Method Resolution Order (MRO), ensuring consistent method invocation across class hierarchies. super() facilitates cooperative multiple inheritance by resolving method calls in a predictable manner. It promotes code flexibility by avoiding hardcoding of parent class names in subclass implementations. By providing a concise syntax for accessing parent class methods, super() enhances code readability and maintains modular class designs."
   ]
  },
  {
   "cell_type": "raw",
   "id": "fc3aaead-85f6-415d-8620-a1337691c83e",
   "metadata": {},
   "source": [
    "14. Create a Python class hierarchy for a banking system with various account types (e.g., savings, checking, credit card) and demonstrate polymorphism by implementing a common `withdraw()` method."
   ]
  },
  {
   "cell_type": "code",
   "execution_count": 14,
   "id": "9b15e336-ef53-47df-ba58-7361bbb597d6",
   "metadata": {},
   "outputs": [
    {
     "name": "stdout",
     "output_type": "stream",
     "text": [
      "Withdrawal of 200 successful. Remaining balance: 4800\n",
      "Withdrawal of 1000 successful. Remaining balance: 2000\n",
      "Withdrawal of 1500 successful. Remaining balance: 500\n"
     ]
    }
   ],
   "source": [
    "class Account:\n",
    "    def __init__(self, account_number, balance):\n",
    "        self.account_number = account_number\n",
    "        self.balance = balance\n",
    "\n",
    "    def withdraw(self, amount):\n",
    "        if amount > 0 and amount <= self.balance:\n",
    "            self.balance -= amount\n",
    "            print(f\"Withdrawal of {amount} successful. Remaining balance: {self.balance}\")\n",
    "        else:\n",
    "            print(\"Withdrawal failed. Insufficient funds.\")\n",
    "\n",
    "class SavingsAccount(Account):\n",
    "    def __init__(self, account_number, balance, interest_rate):\n",
    "        super().__init__(account_number, balance)\n",
    "        self.interest_rate = interest_rate\n",
    "\n",
    "   \n",
    "\n",
    "class CheckingAccount(Account):\n",
    "    def __init__(self, account_number, balance, overdraft_limit):\n",
    "        super().__init__(account_number, balance)\n",
    "        self.overdraft_limit = overdraft_limit\n",
    "\n",
    "  \n",
    "\n",
    "class CreditCardAccount(Account):\n",
    "    def __init__(self, account_number, balance, credit_limit):\n",
    "        super().__init__(account_number, balance)\n",
    "        self.credit_limit = credit_limit\n",
    "\n",
    " \n",
    "\n",
    "\n",
    "savings_account = SavingsAccount(\"SAV123456\", 5000, 0.03)\n",
    "checking_account = CheckingAccount(\"CHK987654\", 3000, 500)\n",
    "credit_card_account = CreditCardAccount(\"CC456789\", 2000, 1000)\n",
    "\n",
    "savings_account.withdraw(200)         \n",
    "checking_account.withdraw(1000)     \n",
    "credit_card_account.withdraw(1500)   \n"
   ]
  },
  {
   "cell_type": "raw",
   "id": "8ece77b3-21db-4fd5-98b5-f8a75a87274d",
   "metadata": {},
   "source": [
    "15. Describe the concept of operator overloading in Python and how it relates to polymorphism. Provide examples using operators like `+` and `*`."
   ]
  },
  {
   "cell_type": "raw",
   "id": "9d1f10d7-63b5-4ef9-87fa-27098af3424f",
   "metadata": {},
   "source": [
    "Operator overloading in Python enables custom behaviors for standard operators like +, *, etc., by defining special methods in classes. It promotes polymorphic behavior, allowing objects of different types to respond differently to the same operator. Customized implementations of operators enhance code readability and expressiveness, making the syntax more intuitive for user-defined objects. Examples include defining __add__() for addition and __mul__() for multiplication, where the behavior varies depending on the operand types and their respective implementations. Ultimately, operator overloading facilitates the integration of user-defined objects into Python's rich ecosystem of built-in types and operators.\n",
    "\n",
    "\n",
    "\n",
    "    def __init__(self, x, y):\n",
    "        self.x = x\n",
    "        self.y = y\n",
    "\n",
    "    def __add__(self, other):\n",
    "        return Point(self.x + other.x, self.y + other.y)\n",
    "\n",
    "p1 = Point(1, 2)\n",
    "p2 = Point(3, 4)\n",
    "p3 = p1 + p2\n",
    "print(p3.x, p3.y) \n",
    "\n",
    "\n",
    "class Vector:\n",
    "    def __init__(self, x, y):\n",
    "        self.x = x\n",
    "        self.y = y\n",
    "\n",
    "    def __mul__(self, scalar):\n",
    "        return Vector(self.x * scalar, self.y * scalar)\n",
    "\n",
    "v1 = Vector(1, 2)\n",
    "v2 = v1 * 3\n",
    "print(v2.x, v2.y)  "
   ]
  },
  {
   "cell_type": "raw",
   "id": "b44bed82-4ca1-4045-bd82-09670865c91e",
   "metadata": {},
   "source": [
    "16. What is dynamic polymorphism, and how is it achieved in Python?"
   ]
  },
  {
   "cell_type": "raw",
   "id": "bd4d6de0-17d0-4b17-93e5-b1ff24b31ca2",
   "metadata": {},
   "source": [
    "Dynamic polymorphism, inherent to runtime, allows objects to execute different methods based on their specific types at runtime rather than compile time. Achieved through method overriding and late binding, Python determines the method to execute dynamically based on the object's actual type. This flexibility enhances code extensibility and readability, enabling objects to exhibit diverse behaviors within a class hierarchy. In Python, method calls are resolved dynamically, facilitating dynamic polymorphism without the need for explicit type declarations or method signatures."
   ]
  },
  {
   "cell_type": "raw",
   "id": "f4f45fa7-95cd-435a-bc06-9b688b9e90cf",
   "metadata": {},
   "source": [
    "17. Create a Python class hierarchy for employees in a company (e.g., manager, developer, designer) and implement polymorphism through a common `calculate_salary()` method."
   ]
  },
  {
   "cell_type": "code",
   "execution_count": 15,
   "id": "52bdc01b-0017-4089-9b7d-490e11d4b202",
   "metadata": {},
   "outputs": [
    {
     "name": "stdout",
     "output_type": "stream",
     "text": [
      "John - Manager: Salary - $100000\n",
      "Alice - Developer: Salary - $80000\n",
      "Bob - Designer: Salary - $70000\n"
     ]
    }
   ],
   "source": [
    "class Employee:\n",
    "    def __init__(self, name, role):\n",
    "        self.name = name\n",
    "        self.role = role\n",
    "\n",
    "    def calculate_salary(self):\n",
    "        raise NotImplementedError(\"Subclass must implement abstract method\")\n",
    "\n",
    "class Manager(Employee):\n",
    "    def calculate_salary(self):\n",
    "        return 100000  \n",
    "\n",
    "class Developer(Employee):\n",
    "    def calculate_salary(self):\n",
    "        return 80000 \n",
    "\n",
    "class Designer(Employee):\n",
    "    def calculate_salary(self):\n",
    "        return 70000  \n",
    "\n",
    "\n",
    "employees = [Manager(\"John\", \"Manager\"), Developer(\"Alice\", \"Developer\"), Designer(\"Bob\", \"Designer\")]\n",
    "\n",
    "for employee in employees:\n",
    "    print(f\"{employee.name} - {employee.role}: Salary - ${employee.calculate_salary()}\")\n"
   ]
  },
  {
   "cell_type": "raw",
   "id": "f79f1c0b-8734-4abf-8b03-1c9c0410f3ae",
   "metadata": {},
   "source": [
    "18. Discuss the concept of function pointers and how they can be used to achieve polymorphism in Python."
   ]
  },
  {
   "cell_type": "raw",
   "id": "bf39a3bf-982d-4b76-aea1-94c6a765be0e",
   "metadata": {},
   "source": [
    "In Python, function pointers are represented through first-class functions, enabling functions to be assigned to variables and passed as arguments to other functions. They facilitate dynamic function assignment and callback mechanisms, allowing different functions to be called based on runtime conditions. Function pointers support the implementation of design patterns like the strategy pattern, where algorithms are encapsulated as functions and passed to context objects. While Python doesn't have explicit function pointers, its support for first-class functions enables polymorphic behavior through dynamic function invocation and method overriding."
   ]
  },
  {
   "cell_type": "raw",
   "id": "8b9c95a0-b87c-402c-86b6-7f9aa0537aac",
   "metadata": {},
   "source": [
    "19. Explain the role of interfaces and abstract classes in polymorphism, drawing comparisons between them."
   ]
  },
  {
   "cell_type": "raw",
   "id": "b37b661b-2418-453d-9a45-45b1d861d7a3",
   "metadata": {},
   "source": [
    "Interfaces and abstract classes are crucial elements in achieving polymorphism and fostering object-oriented design principles.\n",
    "Interfaces define a contract that classes must adhere to, while abstract classes provide partial implementations that subclasses must complete.\n",
    "Interfaces in languages like Java only declare method signatures, whereas abstract classes may contain both abstract and concrete methods.\n",
    "Abstract classes can hold shared behavior and state among subclasses, whereas interfaces emphasize loose coupling and flexibility in design.\n",
    "While abstract classes promote code reuse and inheritance, interfaces support multiple inheritance of behaviors across unrelated classes.\n",
    "In Python, abstract classes can be created using the abc module, but there are no strict interfaces.\n",
    "Both interfaces and abstract classes facilitate polymorphism by establishing common interfaces and enabling flexible implementations across class hierarchies."
   ]
  },
  {
   "cell_type": "raw",
   "id": "cce87a40-8c14-41db-837b-3b6edb0fa144",
   "metadata": {},
   "source": [
    "20. Create a Python class for a zoo simulation, demonstrating polymorphism with different animal types (e.g., mammals, birds, reptiles) and their behavior (e.g., eating, sleeping, making sounds)."
   ]
  },
  {
   "cell_type": "code",
   "execution_count": 16,
   "id": "c767d351-3e48-4c26-ac59-1e1d3517435b",
   "metadata": {},
   "outputs": [
    {
     "name": "stdout",
     "output_type": "stream",
     "text": [
      "Lion: Mammal sound, Mammal eats grass, Mammal sleeps in a den\n",
      "Parrot: Bird chirps, Bird eats seeds, Bird sleeps in a nest\n",
      "Snake: Reptile hisses, Reptile eats insects, Reptile basks under a heat lamp\n"
     ]
    }
   ],
   "source": [
    "class Animal:\n",
    "    def __init__(self, name):\n",
    "        self.name = name\n",
    "\n",
    "    def make_sound(self):\n",
    "        pass\n",
    "\n",
    "    def eat(self):\n",
    "        pass\n",
    "\n",
    "    def sleep(self):\n",
    "        pass\n",
    "\n",
    "class Mammal(Animal):\n",
    "    def make_sound(self):\n",
    "        return \"Mammal sound\"\n",
    "\n",
    "    def eat(self):\n",
    "        return \"Mammal eats grass\"\n",
    "\n",
    "    def sleep(self):\n",
    "        return \"Mammal sleeps in a den\"\n",
    "\n",
    "class Bird(Animal):\n",
    "    def make_sound(self):\n",
    "        return \"Bird chirps\"\n",
    "\n",
    "    def eat(self):\n",
    "        return \"Bird eats seeds\"\n",
    "\n",
    "    def sleep(self):\n",
    "        return \"Bird sleeps in a nest\"\n",
    "\n",
    "class Reptile(Animal):\n",
    "    def make_sound(self):\n",
    "        return \"Reptile hisses\"\n",
    "\n",
    "    def eat(self):\n",
    "        return \"Reptile eats insects\"\n",
    "\n",
    "    def sleep(self):\n",
    "        return \"Reptile basks under a heat lamp\"\n",
    "\n",
    "\n",
    "animals = [Mammal(\"Lion\"), Bird(\"Parrot\"), Reptile(\"Snake\")]\n",
    "\n",
    "for animal in animals:\n",
    "    print(f\"{animal.name}: {animal.make_sound()}, {animal.eat()}, {animal.sleep()}\")\n"
   ]
  },
  {
   "cell_type": "raw",
   "id": "c9d29b08-0e8d-4d30-821c-23b5c75e3ff1",
   "metadata": {},
   "source": [
    "Abstraction:"
   ]
  },
  {
   "cell_type": "raw",
   "id": "6a6e1ccc-8bb9-4071-9e30-407ba4f51140",
   "metadata": {},
   "source": [
    "1. What is abstraction in Python, and how does it relate to object-oriented programming?"
   ]
  },
  {
   "cell_type": "raw",
   "id": "77b377fa-78f5-44d8-830e-386160bc2687",
   "metadata": {},
   "source": [
    "Abstraction in Python involves hiding complex implementation details while providing simplified interfaces for interacting with objects or modules. It is a fundamental concept in object-oriented programming (OOP) that promotes encapsulation, modularity, and code reusability. Through class hierarchies, interfaces, and abstract classes, abstraction enables developers to define clear boundaries between different components of a system. Abstraction simplifies the understanding and usage of code by exposing only essential functionalities while hiding unnecessary complexities. Overall, abstraction enhances code maintainability, scalability, and readability in Python programs."
   ]
  },
  {
   "cell_type": "raw",
   "id": "92b4e94d-fdcc-4e3d-84b7-cca5cffcfe2b",
   "metadata": {},
   "source": [
    "2. Describe the benefits of abstraction in terms of code organization and complexity reduction."
   ]
  },
  {
   "cell_type": "raw",
   "id": "8c0ea261-0ea4-4a6b-a15b-2c35d47b7ebf",
   "metadata": {},
   "source": [
    "Abstraction in code organization and complexity reduction streamlines software development by encapsulating implementation details, promoting modularity, and simplifying interfaces. It fosters cleaner codebases by breaking down complex systems into manageable components, reducing the cognitive load on developers. Abstraction also minimizes interdependencies between modules, enhancing code flexibility and adaptability to changes. Furthermore, it facilitates code reuse by enabling the creation of generic solutions that can be applied across different parts of the system or in other projects. Overall, abstraction is integral to building maintainable, scalable, and robust software systems."
   ]
  },
  {
   "cell_type": "raw",
   "id": "06f8ff9d-d147-4c9f-b117-36deba6a334b",
   "metadata": {},
   "source": [
    "3. Create a Python class called `Shape` with an abstract method `calculate_area()`. Then, create child classes (e.g., `Circle`, `Rectangle`) that implement the `calculate_area()` method. Provide an example of\n",
    "using these classes."
   ]
  },
  {
   "cell_type": "code",
   "execution_count": null,
   "id": "f1f0cec7-e7ce-4fbf-b744-451df638f76c",
   "metadata": {},
   "outputs": [],
   "source": [
    "from abc import ABC, abstractmethod\n",
    "\n",
    "class Shape(ABC):\n",
    "    @abstractmethod\n",
    "    def calculate_area(self):\n",
    "        pass\n",
    "\n",
    "class Circle(Shape):\n",
    "    def __init__(self, radius):\n",
    "        self.radius = radius\n",
    "\n",
    "    def calculate_area(self):\n",
    "        return 3.14 * self.radius ** 2\n",
    "\n",
    "class Rectangle(Shape):\n",
    "    def __init__(self, width, height):\n",
    "        self.width = width\n",
    "        self.height = height\n",
    "\n",
    "    def calculate_area(self):\n",
    "        return self.width * self.height\n",
    "\n",
    "\n",
    "circle = Circle(5)\n",
    "rectangle = Rectangle(4, 6)\n",
    "\n",
    "print(\"Circle area:\", circle.calculate_area()) \n",
    "print(\"Rectangle area:\", rectangle.calculate_area())\n"
   ]
  },
  {
   "cell_type": "raw",
   "id": "185d46fa-7f4b-4eb0-941e-53a4930a5cf1",
   "metadata": {},
   "source": [
    "4. Explain the concept of abstract classes in Python and how they are defined using the `abc` module. Provide\n",
    "an example."
   ]
  },
  {
   "cell_type": "raw",
   "id": "b0721dfa-ff4d-40be-a85e-ccbdcf14a3d1",
   "metadata": {},
   "source": [
    "Abstract classes in Python are classes that cannot be instantiated on their own and typically contain one or more abstract methods. Abstract methods are declared in the abstract class but lack an implementation. Subclasses that inherit from the abstract class must provide concrete implementations for these abstract methods.\n",
    "\n",
    "The abc module (Abstract Base Classes) in Python provides a mechanism to define abstract classes and abstract methods. The ABC (Abstract Base Class) meta-class and the abstractmethod decorator are used for this purpose.\n",
    "\n",
    "Here's an example demonstrating the concept of abstract classes using the abc module:\n",
    "\n",
    "from abc import ABC, abstractmethod\n",
    "\n",
    "class Shape(ABC):\n",
    "    @abstractmethod\n",
    "    def calculate_area(self):\n",
    "        pass\n",
    "\n",
    "class Circle(Shape):\n",
    "    def __init__(self, radius):\n",
    "        self.radius = radius\n",
    "\n",
    "    def calculate_area(self):\n",
    "        return 3.14 * self.radius ** 2\n",
    "\n",
    "class Rectangle(Shape):\n",
    "    def __init__(self, width, height):\n",
    "        self.width = width\n",
    "        self.height = height\n",
    "\n",
    "    def calculate_area(self):\n",
    "        return self.width * self.height\n",
    "\n",
    "\n",
    "circle = Circle(5)\n",
    "rectangle = Rectangle(4, 6)\n",
    "\n",
    "print(\"Circle area:\", circle.calculate_area()) \n",
    "print(\"Rectangle area:\", rectangle.calculate_area()) \n"
   ]
  },
  {
   "cell_type": "raw",
   "id": "43c069a6-2a0e-4125-ad97-8d464df02615",
   "metadata": {},
   "source": [
    "5. How do abstract classes differ from regular classes in Python? Discuss their use cases."
   ]
  },
  {
   "cell_type": "raw",
   "id": "2fb18bb5-c556-459a-bd8b-6696fd79c9fe",
   "metadata": {},
   "source": [
    "Abstract classes in Python cannot be instantiated directly and often define one or more abstract methods that must be implemented by subclasses. They serve as templates or blueprints for other classes, enforcing method implementations and promoting polymorphic behavior. Regular classes, on the other hand, can be instantiated directly and do not necessarily include abstract methods. They define concrete objects with specific attributes and behaviors. Abstract classes are useful for defining common interfaces and promoting code reusability, while regular classes represent specific instances or types of objects in a program."
   ]
  },
  {
   "cell_type": "raw",
   "id": "e6d2f6ae-863e-4887-b106-9f54431a551f",
   "metadata": {},
   "source": [
    "6. Create a Python class for a bank account and demonstrate abstraction by hiding the account balance and\n",
    "providing methods to deposit and withdraw funds."
   ]
  },
  {
   "cell_type": "code",
   "execution_count": null,
   "id": "17910ab1-f7c6-44fa-b572-4286ddfb5cea",
   "metadata": {},
   "outputs": [],
   "source": [
    "class BankAccount:\n",
    "    def __init__(self, account_number, account_holder, initial_balance=0):\n",
    "        self._account_number = account_number\n",
    "        self._account_holder = account_holder\n",
    "        self._balance = initial_balance\n",
    "\n",
    "    def deposit(self, amount):\n",
    "        if amount > 0:\n",
    "            self._balance += amount\n",
    "            print(f\"Deposited ${amount}. New balance is ${self._balance}\")\n",
    "        else:\n",
    "            print(\"Deposit amount must be greater than zero.\")\n",
    "\n",
    "    def withdraw(self, amount):\n",
    "        if 0 < amount <= self._balance:\n",
    "            self._balance -= amount\n",
    "            print(f\"Withdrew ${amount}. New balance is ${self._balance}\")\n",
    "        else:\n",
    "            print(\"Insufficient funds or invalid amount.\")\n",
    "\n",
    "    def get_balance(self):\n",
    "        return self._balance\n",
    "\n",
    "    def get_account_number(self):\n",
    "        return self._account_number\n",
    "\n",
    "    def get_account_holder(self):\n",
    "        return self._account_holder\n",
    "\n",
    "\n",
    "\n",
    "if __name__ == \"__main__\":\n",
    "  \n",
    "    my_account = BankAccount(\"123456789\", \"John Doe\", 1000)\n",
    "\n",
    "    my_account.deposit(500)\n",
    "    my_account.withdraw(200)\n",
    "    my_account.withdraw(2000)  \n",
    "\n",
    "\n",
    "    print(f\"Account Holder: {my_account.get_account_holder()}\")\n",
    "    print(f\"Account Number: {my_account.get_account_number()}\")\n",
    "    print(f\"Account Balance: ${my_account.get_balance()}\")\n"
   ]
  },
  {
   "cell_type": "raw",
   "id": "2ac13ffc-6081-419b-ab14-cdbf49ee1e0f",
   "metadata": {},
   "source": [
    "7. Discuss the concept of interface classes in Python and their role in achieving abstraction."
   ]
  },
  {
   "cell_type": "raw",
   "id": "abe170ca-3731-412f-a5fa-1486cacff094",
   "metadata": {},
   "source": [
    "Interface classes in Python, typically implemented using abstract base classes (ABCs), enforce contracts by defining methods that concrete classes must implement. They promote abstraction by hiding implementation details and focusing on essential behaviors. Through interfaces, polymorphism is facilitated, allowing objects of different classes to be treated uniformly. Python's abc module provides tools for defining abstract methods and properties, ensuring adherence to interface specifications. Interface classes enhance code readability, maintainability, and interoperability in complex systems."
   ]
  },
  {
   "cell_type": "raw",
   "id": "bc8eab59-6bbc-4592-aa33-454d57d0745b",
   "metadata": {},
   "source": [
    "8. Create a Python class hierarchy for animals and implement abstraction by defining common methods (e.g., `eat()`, `sleep()`) in an abstract base class."
   ]
  },
  {
   "cell_type": "code",
   "execution_count": null,
   "id": "24e9ec53-37cd-4afa-848c-27bde6e11d05",
   "metadata": {},
   "outputs": [],
   "source": [
    "from abc import ABC, abstractmethod\n",
    "\n",
    "class Animal(ABC):\n",
    "    def __init__(self, name, age):\n",
    "        self.name = name\n",
    "        self.age = age\n",
    "\n",
    "    @abstractmethod\n",
    "    def eat(self):\n",
    "        pass\n",
    "\n",
    "    @abstractmethod\n",
    "    def sleep(self):\n",
    "        pass\n",
    "\n",
    "class Dog(Animal):\n",
    "    def bark(self):\n",
    "        print(\"Woof!\")\n",
    "\n",
    "    def eat(self):\n",
    "        print(f\"{self.name} is eating dog food.\")\n",
    "\n",
    "    def sleep(self):\n",
    "        print(f\"{self.name} is sleeping in a dog bed.\")\n",
    "\n",
    "class Cat(Animal):\n",
    "    def meow(self):\n",
    "        print(\"Meow!\")\n",
    "\n",
    "    def eat(self):\n",
    "        print(f\"{self.name} is eating cat food.\")\n",
    "\n",
    "    def sleep(self):\n",
    "        print(f\"{self.name} is sleeping in a cat bed.\")\n",
    "\n",
    "\n",
    "if __name__ == \"__main__\":\n",
    "    dog = Dog(\"Buddy\", 5)\n",
    "    cat = Cat(\"Whiskers\", 3)\n",
    "\n",
    "    dog.eat()\n",
    "    dog.sleep()\n",
    "    dog.bark()\n",
    "\n",
    "    cat.eat()\n",
    "    cat.sleep()\n",
    "    cat.meow()\n"
   ]
  },
  {
   "cell_type": "raw",
   "id": "72b9a27c-42e1-48d3-9127-1c0d8e5fbb8d",
   "metadata": {},
   "source": [
    "9. Explain the significance of encapsulation in achieving abstraction. Provide examples."
   ]
  },
  {
   "cell_type": "raw",
   "id": "56bc5909-8a4c-4882-86be-e803882f5c2d",
   "metadata": {},
   "source": [
    "Encapsulation is a fundamental concept in object-oriented programming that involves bundling the data (attributes) and methods (functions) that operate on the data into a single unit, called a class. Encapsulation helps in achieving abstraction by hiding the internal state of an object and exposing only the necessary functionalities to interact with it. Here's how encapsulation contributes to abstraction:\n",
    "\n",
    "Data Hiding: Encapsulation allows the internal state (attributes) of an object to be hidden from the outside world. This means that the implementation details are not directly accessible or modifiable, promoting information hiding and preventing unintended manipulation of the object's state.\n",
    "\n",
    "Access Control: By using access specifiers like public, private, and protected, encapsulation enables fine-grained control over the accessibility of class members. Private attributes and methods are accessible only within the class itself, while public members can be accessed from outside the class. This helps in enforcing data integrity and maintaining a clear interface for interacting with the object.\n",
    "\n",
    "Abstraction through Interfaces: Encapsulation facilitates the creation of clear and intuitive interfaces for interacting with objects. By providing well-defined methods and hiding internal complexities, encapsulation allows users to interact with objects at a higher level of abstraction, focusing on what an object does rather than how it does it.\n",
    "\n",
    "\n",
    "example:\n",
    "class Car:\n",
    "    def __init__(self, make, model, year):\n",
    "        self._make = make  \n",
    "        self._model = model \n",
    "        self._year = year \n",
    "        self._odometer_reading = 0 \n",
    "\n",
    "    def get_make(self):  \n",
    "        return self._make\n",
    "\n",
    "    def set_make(self, make): \n",
    "        self._make = make\n",
    "\n",
    "    def read_odometer(self):\n",
    "        return f\"This car has {self._odometer_reading} miles on it.\"\n",
    "\n",
    "    def update_odometer(self, mileage):  \n",
    "        if mileage >= self._odometer_reading:\n",
    "            self._odometer_reading = mileage\n",
    "        else:\n",
    "            print(\"You can't roll back an odometer!\")\n",
    "\n",
    "my_car = Car(\"Toyota\", \"Camry\", 2020)\n",
    "print(my_car.get_make())  \n",
    "my_car.set_make(\"Honda\")  \n",
    "print(my_car.get_make())\n",
    "my_car.update_odometer(10000) \n",
    "print(my_car.read_odometer())\n"
   ]
  },
  {
   "cell_type": "raw",
   "id": "0187b692-6469-4bb1-9587-7a269bc91a30",
   "metadata": {},
   "source": [
    "10. What is the purpose of abstract methods, and how do they enforce abstraction in Python classes?"
   ]
  },
  {
   "cell_type": "raw",
   "id": "defed1b9-0eef-421a-9c8c-6efb028a85e2",
   "metadata": {},
   "source": [
    "Abstract methods in Python serve the purpose of defining a method signature in a base class without providing implementation details. They enforce abstraction by requiring concrete subclasses to override these abstract methods, thereby providing their own implementations. Abstract methods ensure that subclasses adhere to a common interface or contract, promoting consistency and interoperability in object-oriented designs.\n",
    "\n",
    "Here's how abstract methods enforce abstraction in Python classes:\n",
    "\n",
    "Method Signatures: Abstract methods define the required methods that subclasses must implement. They specify the method name, parameters, and return type without providing any implementation details.\n",
    "\n",
    "Enforcing Contracts: By defining abstract methods in a base class, Python enforces a contract that concrete subclasses must fulfill. Subclasses must override all abstract methods defined in the base class, ensuring that they provide the necessary functionality.\n",
    "\n",
    "Compile-Time Checks: Python's abstract base class (ABC) mechanism, provided by the abc module, allows abstract methods to be defined. If a subclass fails to implement any abstract methods, Python raises an error at runtime, indicating that the class is not fully implementing the required interface.\n",
    "\n",
    "Promoting Abstraction: Abstract methods encourage developers to focus on defining high-level interfaces rather than specific implementations. This promotes abstraction by allowing classes to interact based on the defined interface without worrying about internal details.\n",
    "\n",
    "In summary, abstract methods in Python classes serve as blueprints for required behaviors, promoting abstraction by enforcing a common interface among related classes. They enhance code clarity, maintainability, and extensibility by defining clear contracts and facilitating polymorphic behavior across different subclasses."
   ]
  },
  {
   "cell_type": "raw",
   "id": "f83ea409-7a11-4ce9-a531-71d04566ff5d",
   "metadata": {},
   "source": [
    "11. Create a Python class for a vehicle system and demonstrate abstraction by defining common methods"
   ]
  },
  {
   "cell_type": "code",
   "execution_count": null,
   "id": "cf073cdd-c74f-4d9f-8753-1739a993ce36",
   "metadata": {},
   "outputs": [],
   "source": [
    "class Vehicle:\n",
    "    def __init__(self, make, model, year):\n",
    "        self.make = make\n",
    "        self.model = model\n",
    "        self.year = year\n",
    "        self.running = False\n",
    "        self.fuel = 0\n",
    "\n",
    "    def start(self):\n",
    "        if not self.running and self.fuel > 0:\n",
    "            self.running = True\n",
    "            print(f\"The {self.year} {self.make} {self.model} starts.\")\n",
    "        elif self.running:\n",
    "            print(\"The vehicle is already running.\")\n",
    "        else:\n",
    "            print(\"The vehicle has no fuel.\")\n",
    "\n",
    "    def stop(self):\n",
    "        if self.running:\n",
    "            self.running = False\n",
    "            print(f\"The {self.year} {self.make} {self.model} stops.\")\n",
    "        else:\n",
    "            print(\"The vehicle is already stopped.\")\n",
    "\n",
    "    def fuel_up(self, amount):\n",
    "        if amount > 0:\n",
    "            self.fuel += amount\n",
    "            print(f\"Added {amount} gallons of fuel to the {self.year} {self.make} {self.model}.\")\n",
    "        else:\n",
    "            print(\"Invalid fuel amount.\")\n",
    "\n",
    "\n",
    "if __name__ == \"__main__\":\n",
    "    car = Vehicle(\"Toyota\", \"Camry\", 2020)\n",
    "    car.start()\n",
    "    car.fuel_up(10)\n",
    "    car.start()\n",
    "    car.stop()\n",
    "    car.stop()\n"
   ]
  },
  {
   "cell_type": "raw",
   "id": "e5c41069-bee9-4d0f-9d9f-b1b2d9a75542",
   "metadata": {},
   "source": [
    "12. Describe the use of abstract properties in Python and how they can be employed in abstract classes."
   ]
  },
  {
   "cell_type": "raw",
   "id": "b7e49454-4e51-4593-8f84-954d8556c937",
   "metadata": {},
   "source": [
    "\n",
    "In Python, abstract properties are properties defined in abstract base classes (ABCs) without providing an implementation. They serve as placeholders for attributes that subclasses must implement. Abstract properties enforce a contract, ensuring that subclasses provide their own implementations for these properties.\n",
    "\n",
    "Here's how abstract properties can be used in abstract classes:\n",
    "\n",
    "Defining Abstract Properties:\n",
    "Abstract properties are defined using the @property decorator in an abstract base class. However, unlike concrete properties, abstract properties do not provide a getter, setter, or deleter method. Instead, they only specify the property's name and its docstring, leaving the implementation details to the subclasses.\n",
    "\n",
    "Enforcing Implementation:\n",
    "Subclasses of the abstract base class must override the abstract properties and provide their own implementations. Failure to do so will result in a runtime error, indicating that the subclass does not fully implement the required interface.\n",
    "\n",
    "Facilitating Polymorphism:\n",
    "Abstract properties, like abstract methods, promote polymorphism by defining a common interface for subclasses. This allows different subclasses to provide custom implementations while adhering to a consistent interface.\n",
    "\n",
    "Promoting Abstraction:\n",
    "Abstract properties help in abstracting away the details of specific attribute implementations. They focus on what attributes a class should have rather than how they should be implemented, contributing to cleaner and more maintainable code.\n",
    "\n",
    "example:\n",
    "from abc import ABC, abstractmethod\n",
    "\n",
    "class Shape(ABC):\n",
    "    @property\n",
    "    @abstractmethod\n",
    "    def area(self):\n",
    "        \n",
    "        pass\n",
    "\n",
    "    @property\n",
    "    @abstractmethod\n",
    "    def perimeter(self):\n",
    "        \n",
    "        pass\n",
    "\n",
    "class Rectangle(Shape):\n",
    "    def __init__(self, width, height):\n",
    "        self.width = width\n",
    "        self.height = height\n",
    "\n",
    "    @property\n",
    "    def area(self):\n",
    "        return self.width * self.height\n",
    "\n",
    "    @property\n",
    "    def perimeter(self):\n",
    "        return 2 * (self.width + self.height)\n",
    "\n",
    "class Circle(Shape):\n",
    "    def __init__(self, radius):\n",
    "        self.radius = radius\n",
    "\n",
    "    @property\n",
    "    def area(self):\n",
    "        return 3.14 * self.radius ** 2\n",
    "\n",
    "    @property\n",
    "    def perimeter(self):\n",
    "        return 2 * 3.14 * self.radius\n",
    "\n",
    "\n",
    "if __name__ == \"__main__\":\n",
    "    rectangle = Rectangle(5, 4)\n",
    "    print(\"Rectangle Area:\", rectangle.area)\n",
    "    print(\"Rectangle Perimeter:\", rectangle.perimeter)\n",
    "\n",
    "    circle = Circle(3)\n",
    "    print(\"Circle Area:\", circle.area)\n",
    "    print(\"Circle Perimeter:\", circle.perimeter)\n"
   ]
  },
  {
   "cell_type": "raw",
   "id": "a9b268d8-6995-4250-b406-31813a22b39f",
   "metadata": {},
   "source": [
    "13. Create a Python class hierarchy for employees in a company (e.g., manager, developer, designer) and implement abstraction by defining a common `get_salary()` method."
   ]
  },
  {
   "cell_type": "code",
   "execution_count": null,
   "id": "808bf9b2-05f0-4e9c-9943-2732a2e6e2bc",
   "metadata": {},
   "outputs": [],
   "source": [
    "from abc import ABC, abstractmethod\n",
    "\n",
    "class Employee(ABC):\n",
    "    def __init__(self, name, employee_id):\n",
    "        self.name = name\n",
    "        self.employee_id = employee_id\n",
    "\n",
    "    @abstractmethod\n",
    "    def get_salary(self):\n",
    "        pass\n",
    "\n",
    "class Manager(Employee):\n",
    "    def __init__(self, name, employee_id, salary):\n",
    "        super().__init__(name, employee_id)\n",
    "        self.salary = salary\n",
    "\n",
    "    def get_salary(self):\n",
    "        return self.salary\n",
    "\n",
    "class Developer(Employee):\n",
    "    def __init__(self, name, employee_id, hourly_rate, hours_worked):\n",
    "        super().__init__(name, employee_id)\n",
    "        self.hourly_rate = hourly_rate\n",
    "        self.hours_worked = hours_worked\n",
    "\n",
    "    def get_salary(self):\n",
    "        return self.hourly_rate * self.hours_worked\n",
    "\n",
    "class Designer(Employee):\n",
    "    def __init__(self, name, employee_id, monthly_salary, bonus):\n",
    "        super().__init__(name, employee_id)\n",
    "        self.monthly_salary = monthly_salary\n",
    "        self.bonus = bonus\n",
    "\n",
    "    def get_salary(self):\n",
    "        return self.monthly_salary + self.bonus\n",
    "\n",
    "# Example Usage\n",
    "if __name__ == \"__main__\":\n",
    "    manager = Manager(\"John Doe\", 1001, 5000)\n",
    "    developer = Developer(\"Alice Smith\", 1002, 50, 160)\n",
    "    designer = Designer(\"Bob Brown\", 1003, 4000, 500)\n",
    "\n",
    "    print(f\"{manager.name}'s Salary: ${manager.get_salary()}\")\n",
    "    print(f\"{developer.name}'s Salary: ${developer.get_salary()}\")\n",
    "    print(f\"{designer.name}'s Salary: ${designer.get_salary()}\")\n"
   ]
  },
  {
   "cell_type": "raw",
   "id": "2a3d83d0-7a22-4a5b-97d4-53ced9bf0082",
   "metadata": {},
   "source": [
    "14. Discuss the differences between abstract classes and concrete classes in Python, including their\n",
    "instantiation."
   ]
  },
  {
   "cell_type": "raw",
   "id": "71876288-98aa-4d79-b720-57df6230797f",
   "metadata": {},
   "source": [
    "Abstract classes in Python cannot be instantiated directly and contain one or more abstract methods lacking implementation. They serve as blueprints, defining a common interface or contract for subclasses to follow. Concrete classes, in contrast, can be instantiated directly and provide complete implementations for all methods. They represent real-world entities or concepts and may inherit from abstract classes to implement specific behaviors. Instantiating concrete classes involves creating objects that can access attributes and methods defined within the class."
   ]
  },
  {
   "cell_type": "raw",
   "id": "bdd50bc3-5511-47a7-b33a-2988ad5e37aa",
   "metadata": {},
   "source": [
    "15. Explain the concept of abstract data types (ADTs) and their role in achieving abstraction in Python."
   ]
  },
  {
   "cell_type": "raw",
   "id": "357d256e-78d3-4c26-80bb-6f402f13f9df",
   "metadata": {},
   "source": [
    "Abstract Data Types (ADTs) define a logical model for data and operations without specifying implementation details. They encapsulate properties and behaviors of data structures, promoting modular design and code reusability. ADTs provide a clear interface for interacting with data, hiding internal complexities and promoting abstraction in Python programs. They facilitate algorithm design by offering standardized frameworks for describing input, output, and behavior. Built-in data structures like lists and dictionaries in Python exemplify ADTs, fostering clean and modular code development."
   ]
  },
  {
   "cell_type": "raw",
   "id": "5c2dcf7d-ac86-464b-990d-da1db1a62a70",
   "metadata": {},
   "source": [
    "16. Create a Python class for a computer system, demonstrating abstraction by defining common methods (e.g., `power_on()`, `shutdown()`) in an abstract base class."
   ]
  },
  {
   "cell_type": "code",
   "execution_count": null,
   "id": "0e0f077c-adf0-431b-8120-9a53ba8fdba7",
   "metadata": {},
   "outputs": [],
   "source": [
    "from abc import ABC, abstractmethod\n",
    "\n",
    "class ComputerSystem(ABC):\n",
    "    def __init__(self, brand, model):\n",
    "        self.brand = brand\n",
    "        self.model = model\n",
    "        self.powered_on = False\n",
    "\n",
    "    @abstractmethod\n",
    "    def power_on(self):\n",
    "        pass\n",
    "\n",
    "    @abstractmethod\n",
    "    def shutdown(self):\n",
    "        pass\n",
    "\n",
    "class Desktop(ComputerSystem):\n",
    "    def power_on(self):\n",
    "        if not self.powered_on:\n",
    "            self.powered_on = True\n",
    "            print(f\"{self.brand} {self.model} desktop is powering on.\")\n",
    "        else:\n",
    "            print(\"Desktop is already powered on.\")\n",
    "\n",
    "    def shutdown(self):\n",
    "        if self.powered_on:\n",
    "            self.powered_on = False\n",
    "            print(f\"{self.brand} {self.model} desktop is shutting down.\")\n",
    "        else:\n",
    "            print(\"Desktop is already powered off.\")\n",
    "\n",
    "class Laptop(ComputerSystem):\n",
    "    def power_on(self):\n",
    "        if not self.powered_on:\n",
    "            self.powered_on = True\n",
    "            print(f\"{self.brand} {self.model} laptop is booting up.\")\n",
    "        else:\n",
    "            print(\"Laptop is already powered on.\")\n",
    "\n",
    "    def shutdown(self):\n",
    "        if self.powered_on:\n",
    "            self.powered_on = False\n",
    "            print(f\"{self.brand} {self.model} laptop is shutting down.\")\n",
    "        else:\n",
    "            print(\"Laptop is already powered off.\")\n",
    "\n",
    "\n",
    "if __name__ == \"__main__\":\n",
    "    desktop = Desktop(\"Dell\", \"OptiPlex\")\n",
    "    desktop.power_on()\n",
    "    desktop.power_on() \n",
    "    desktop.shutdown()\n",
    "\n",
    "    laptop = Laptop(\"HP\", \"Pavilion\")\n",
    "    laptop.power_on()\n",
    "    laptop.shutdown()\n",
    "    laptop.shutdown()  \n"
   ]
  },
  {
   "cell_type": "raw",
   "id": "0622c991-c0b9-4ffa-a536-75977a75cfb2",
   "metadata": {},
   "source": [
    "17. Discuss the benefits of using abstraction in large-scale software development projects."
   ]
  },
  {
   "cell_type": "raw",
   "id": "414ec9ac-6394-450b-afdd-eeaeb579835c",
   "metadata": {},
   "source": [
    "Abstraction in large-scale software projects simplifies maintenance by breaking down complex systems into manageable components. It encourages code reusability, enhances collaboration among development teams, and facilitates testing and debugging. Abstraction also promotes flexibility, adaptability, and scalability, enabling software systems to evolve gracefully over time while maintaining coherence and consistency."
   ]
  },
  {
   "cell_type": "raw",
   "id": "7fbea295-87ef-4054-ab9e-e9b37d63f12f",
   "metadata": {},
   "source": [
    "18. Explain how abstraction enhances code reusability and modularity in Python programs."
   ]
  },
  {
   "cell_type": "raw",
   "id": "654e09c8-8d5b-4efe-8aea-89c07999790b",
   "metadata": {},
   "source": [
    "Abstraction in Python facilitates code reusability by hiding implementation details and providing standardized interfaces, promoting separation of concerns and modular design. It simplifies maintenance by allowing changes to one part of the codebase without affecting others, thus reducing complexity and minimizing the risk of unintended side effects. Additionally, abstraction enables scalability and extensibility, empowering developers to add new features or modify existing ones seamlessly while maintaining coherence and consistency."
   ]
  },
  {
   "cell_type": "raw",
   "id": "fd3fd54d-d953-46fe-9e10-de7a95cffc51",
   "metadata": {},
   "source": [
    "19. Create a Python class for a library system, implementing abstraction by defining common methods (e.g., `add_book()`, `borrow_book()`) in an abstract base class."
   ]
  },
  {
   "cell_type": "code",
   "execution_count": null,
   "id": "468bec0f-4b96-4926-9be3-e19ed911ecb0",
   "metadata": {},
   "outputs": [],
   "source": [
    "from abc import ABC, abstractmethod\n",
    "\n",
    "class LibrarySystem(ABC):\n",
    "    def __init__(self, name):\n",
    "        self.name = name\n",
    "        self.books = {}\n",
    "\n",
    "    @abstractmethod\n",
    "    def add_book(self, book_name, author):\n",
    "        pass\n",
    "\n",
    "    @abstractmethod\n",
    "    def borrow_book(self, book_name):\n",
    "        pass\n",
    "\n",
    "class MyLibrary(LibrarySystem):\n",
    "    def add_book(self, book_name, author):\n",
    "        if book_name not in self.books:\n",
    "            self.books[book_name] = author\n",
    "            print(f\"{book_name} by {author} has been added to {self.name}.\")\n",
    "        else:\n",
    "            print(f\"{book_name} by {author} is already in {self.name}.\")\n",
    "\n",
    "    def borrow_book(self, book_name):\n",
    "        if book_name in self.books:\n",
    "            print(f\"You have borrowed {book_name} by {self.books[book_name]}.\")\n",
    "            del self.books[book_name]\n",
    "        else:\n",
    "            print(f\"{book_name} is not available in {self.name}.\")\n",
    "\n",
    "\n",
    "if __name__ == \"__main__\":\n",
    "    my_library = MyLibrary(\"My Library\")\n",
    "    my_library.add_book(\"Python Programming\", \"John Smith\")\n",
    "    my_library.add_book(\"Data Structures and Algorithms\", \"Alice Jones\")\n",
    "    my_library.borrow_book(\"Python Programming\")\n",
    "    my_library.borrow_book(\"Artificial Intelligence\")\n"
   ]
  },
  {
   "cell_type": "raw",
   "id": "6f0551c5-7b8d-4fcd-935d-1ce33dcc067a",
   "metadata": {},
   "source": [
    "20. Describe the concept of method abstraction in Python and how it relates to polymorphism."
   ]
  },
  {
   "cell_type": "raw",
   "id": "d5069bb0-169f-4f28-9243-144a91586219",
   "metadata": {},
   "source": [
    "Method abstraction in Python entails defining methods at a high level, focusing on what the method does rather than how it is implemented. This abstraction allows different classes to provide their own implementations of the same method name, facilitating polymorphism—a fundamental concept in object-oriented programming. Polymorphism enables objects of different classes to be treated uniformly through a common interface, promoting code flexibility and modularity. By adhering to method abstraction and polymorphism, Python programs can achieve greater code reuse, maintainability, and extensibility across different classes and modules."
   ]
  },
  {
   "cell_type": "code",
   "execution_count": null,
   "id": "9bf75079-d107-4598-8312-ef416bdff682",
   "metadata": {},
   "outputs": [],
   "source": [
    "Composition:"
   ]
  },
  {
   "cell_type": "raw",
   "id": "c2767203-a533-4749-a2f0-6f039b4884af",
   "metadata": {},
   "source": [
    "1. Explain the concept of composition in Python and how it is used to build complex objects from simpler ones."
   ]
  },
  {
   "cell_type": "raw",
   "id": "59fb113a-8a22-45d5-8926-489145eb37aa",
   "metadata": {},
   "source": [
    "Composition in Python is a design concept where complex objects are constructed by combining simpler objects as parts. It allows for hierarchical relationships between objects, enabling code reuse, modularity, and encapsulation. Through composition, objects can be organized hierarchically, with higher-level objects containing references to lower-level objects. This promotes flexibility and extensibility, as components can be replaced or extended without affecting the overall structure of the system. Overall, composition facilitates the creation of maintainable and scalable software systems by breaking down complexity into manageable components."
   ]
  },
  {
   "cell_type": "raw",
   "id": "7202549a-bd3e-45d7-b7bf-e975e3f913c5",
   "metadata": {},
   "source": [
    "2. Describe the difference between composition and inheritance in object-oriented programming."
   ]
  },
  {
   "cell_type": "raw",
   "id": "42a8fb24-6393-4313-bb2c-5038f087b37f",
   "metadata": {},
   "source": [
    "Composition involves constructing complex objects by combining simpler objects or components, fostering code reuse and modularity through a has-a relationship. In contrast, inheritance creates new classes based on existing ones, promoting code reuse and polymorphism via an is-a relationship. Composition offers greater flexibility and encapsulation, allowing dynamic object assembly, while inheritance provides a more structured approach based on class hierarchies. Both principles are fundamental in object-oriented programming, offering distinct advantages for software design and implementation."
   ]
  },
  {
   "cell_type": "raw",
   "id": "e1bd0345-08f5-4359-85dc-8d17db7f0b53",
   "metadata": {},
   "source": [
    "3. Create a Python class called `Author` with attributes for name and birthdate. Then, create a `Book` class\n",
    "that contains an instance of `Author` as a composition. Provide an example of creating a `Book` object."
   ]
  },
  {
   "cell_type": "code",
   "execution_count": null,
   "id": "4292a710-43f3-42d6-b620-69f8559dc8de",
   "metadata": {},
   "outputs": [],
   "source": [
    "class Author:\n",
    "    def __init__(self, name, birthdate):\n",
    "        self.name = name\n",
    "        self.birthdate = birthdate\n",
    "\n",
    "class Book:\n",
    "    def __init__(self, title, author_name, author_birthdate):\n",
    "        self.title = title\n",
    "        self.author = Author(author_name, author_birthdate)\n",
    "\n",
    "\n",
    "if __name__ == \"__main__\":\n",
    "    author_name = \"J.K. Rowling\"\n",
    "    author_birthdate = \"July 31, 1965\"\n",
    "    book_title = \"Harry Potter and the Philosopher's Stone\"\n",
    "\n",
    "    book = Book(book_title, author_name, author_birthdate)\n",
    "    print(f\"Book Title: {book.title}\")\n",
    "    print(f\"Author: {book.author.name}\")\n",
    "    print(f\"Author Birthdate: {book.author.birthdate}\")\n"
   ]
  },
  {
   "cell_type": "raw",
   "id": "4da6821f-d18b-4df4-a242-85a7d8109963",
   "metadata": {},
   "source": [
    "4. Discuss the benefits of using composition over inheritance in Python, especially in terms of code flexibility\n",
    "and reusability."
   ]
  },
  {
   "cell_type": "raw",
   "id": "3de07c7c-9c4b-4ecd-b0f2-89b62025f519",
   "metadata": {},
   "source": [
    "Using composition over inheritance in Python provides code flexibility and reusability by enabling dynamic object relationships and promoting modular design. Composition encourages code reuse by allowing objects to be composed of smaller, reusable components, reducing duplication and enhancing maintainability. It fosters encapsulation and abstraction, hiding internal implementation details and promoting clear interfaces between objects. Composition avoids the rigidity of inheritance hierarchies, offering loosely coupled relationships that ease maintenance and modification. Overall, composition facilitates code evolution, allowing objects to be modified or replaced without impacting the system's overall structure."
   ]
  },
  {
   "cell_type": "raw",
   "id": "9ef8e5aa-b63f-4f0a-973f-196dc572da97",
   "metadata": {},
   "source": [
    "5. How can you implement composition in Python classes? Provide examples of using composition to create\n",
    "complex objects."
   ]
  },
  {
   "cell_type": "code",
   "execution_count": null,
   "id": "6d6e271c-5416-4304-b287-09ba94301636",
   "metadata": {},
   "outputs": [],
   "source": [
    "class Engine:\n",
    "    def __init__(self, horsepower):\n",
    "        self.horsepower = horsepower\n",
    "\n",
    "    def start(self):\n",
    "        print(\"Engine started.\")\n",
    "\n",
    "class Car:\n",
    "    def __init__(self, make, model, horsepower):\n",
    "        self.make = make\n",
    "        self.model = model\n",
    "        self.engine = Engine(horsepower) \n",
    "\n",
    "    def start(self):\n",
    "        print(f\"Starting the {self.make} {self.model}.\")\n",
    "        self.engine.start()\n",
    "\n",
    "if __name__ == \"__main__\":\n",
    "    my_car = Car(\"Toyota\", \"Camry\", 180)\n",
    "    my_car.start()\n"
   ]
  },
  {
   "cell_type": "raw",
   "id": "375bb072-eb0f-4af1-8bfe-352a45823b3e",
   "metadata": {},
   "source": [
    "6. Create a Python class hierarchy for a music player system, using composition to represent playlists and\n",
    "songs."
   ]
  },
  {
   "cell_type": "code",
   "execution_count": null,
   "id": "cde6f13b-d7cf-4025-91cf-24f3088ce2c1",
   "metadata": {},
   "outputs": [],
   "source": [
    "class Song:\n",
    "    def __init__(self, title, artist, duration):\n",
    "        self.title = title\n",
    "        self.artist = artist\n",
    "        self.duration = duration\n",
    "\n",
    "    def play(self):\n",
    "        print(f\"Playing '{self.title}' by {self.artist} ({self.duration} seconds)\")\n",
    "\n",
    "class Playlist:\n",
    "    def __init__(self, name):\n",
    "        self.name = name\n",
    "        self.songs = []\n",
    "\n",
    "    def add_song(self, song):\n",
    "        self.songs.append(song)\n",
    "\n",
    "    def remove_song(self, song):\n",
    "        self.songs.remove(song)\n",
    "\n",
    "    def play_all(self):\n",
    "        print(f\"Playing all songs in playlist '{self.name}':\")\n",
    "        for song in self.songs:\n",
    "            song.play()\n",
    "\n",
    "\n",
    "if __name__ == \"__main__\":\n",
    "    song1 = Song(\"Shape of You\", \"Ed Sheeran\", 240)\n",
    "    song2 = Song(\"Someone Like You\", \"Adele\", 280)\n",
    "    song3 = Song(\"Uptown Funk\", \"Bruno Mars\", 220)\n",
    "\n",
    "    playlist1 = Playlist(\"Pop Hits\")\n",
    "    playlist1.add_song(song1)\n",
    "    playlist1.add_song(song2)\n",
    "\n",
    "    playlist2 = Playlist(\"Party Mix\")\n",
    "    playlist2.add_song(song1)\n",
    "    playlist2.add_song(song3)\n",
    "\n",
    "    playlist1.play_all()\n",
    "    playlist2.play_all()\n"
   ]
  },
  {
   "cell_type": "raw",
   "id": "6082d0eb-c1df-4d5d-b742-268359cf57fe",
   "metadata": {},
   "source": [
    "7. Explain the concept of \"has-a\" relationships in composition and how it helps design software systems."
   ]
  },
  {
   "cell_type": "raw",
   "id": "3734f9da-3547-4218-874a-8b89e645ec0e",
   "metadata": {},
   "source": [
    "In composition, \"has-a\" relationships denote objects containing other objects as parts, promoting modularity and encapsulation. This design principle encourages code reuse by combining smaller, reusable components to form complex objects. Composition enhances flexibility and extensibility, allowing objects to be composed dynamically at runtime. It fosters encapsulation and abstraction, as objects expose interfaces while hiding internal implementation details. Overall, composition facilitates the creation of modular, maintainable, and scalable software systems."
   ]
  },
  {
   "cell_type": "raw",
   "id": "8e92be36-c352-4875-ac3a-f072b7c1a6bf",
   "metadata": {},
   "source": [
    "8. Create a Python class for a computer system, using composition to represent components like CPU, RAM,\n",
    "and storage devices."
   ]
  },
  {
   "cell_type": "code",
   "execution_count": null,
   "id": "92588be6-61f6-4e60-b0f6-d702d6108d01",
   "metadata": {},
   "outputs": [],
   "source": [
    "class CPU:\n",
    "    def __init__(self, brand, model, cores):\n",
    "        self.brand = brand\n",
    "        self.model = model\n",
    "        self.cores = cores\n",
    "\n",
    "    def info(self):\n",
    "        return f\"CPU: {self.brand} {self.model}, Cores: {self.cores}\"\n",
    "\n",
    "class RAM:\n",
    "    def __init__(self, capacity_gb, speed_mhz):\n",
    "        self.capacity_gb = capacity_gb\n",
    "        self.speed_mhz = speed_mhz\n",
    "\n",
    "    def info(self):\n",
    "        return f\"RAM: {self.capacity_gb}GB, Speed: {self.speed_mhz}MHz\"\n",
    "\n",
    "class Storage:\n",
    "    def __init__(self, capacity_gb, interface):\n",
    "        self.capacity_gb = capacity_gb\n",
    "        self.interface = interface\n",
    "\n",
    "    def info(self):\n",
    "        return f\"Storage: {self.capacity_gb}GB, Interface: {self.interface}\"\n",
    "\n",
    "class Computer:\n",
    "    def __init__(self, cpu, ram, storage):\n",
    "        self.cpu = cpu\n",
    "        self.ram = ram\n",
    "        self.storage = storage\n",
    "\n",
    "    def specs(self):\n",
    "        return f\"Computer Specifications:\\n{self.cpu.info()}\\n{self.ram.info()}\\n{self.storage.info()}\"\n",
    "\n",
    "if __name__ == \"__main__\":\n",
    "    cpu = CPU(\"Intel\", \"Core i7\", 8)\n",
    "    ram = RAM(16, 3200)\n",
    "    storage = Storage(512, \"NVMe\")\n",
    "\n",
    "    my_computer = Computer(cpu, ram, storage)\n",
    "    print(my_computer.specs())\n"
   ]
  },
  {
   "cell_type": "raw",
   "id": "55553bf7-502e-4c52-ad41-709fea4d265a",
   "metadata": {},
   "source": [
    "9. Describe the concept of \"delegation\" in composition and how it simplifies the design of complex systems."
   ]
  },
  {
   "cell_type": "raw",
   "id": "5bc93504-0154-40c9-ae1f-c5e1ffe04cdc",
   "metadata": {},
   "source": [
    "Delegation in composition involves one object assigning tasks to another object to simplify complex systems. It promotes modularity by breaking down tasks into smaller, more manageable units of work. Delegation encourages code reuse and flexibility, allowing objects to collaborate through well-defined interfaces. It reduces tight coupling between objects, making the system more resilient to changes. Overall, delegation simplifies system design by promoting clear responsibilities and encapsulating complexity within individual objects.\n"
   ]
  },
  {
   "cell_type": "raw",
   "id": "c1c89e8c-6e3d-4600-a0b2-2b9471a62a71",
   "metadata": {},
   "source": [
    "10. Create a Python class for a car, using composition to represent components like the engine, wheels, and\n",
    "transmission."
   ]
  },
  {
   "cell_type": "code",
   "execution_count": null,
   "id": "cb7790f6-4f06-4da8-ac7b-5d9567853be8",
   "metadata": {},
   "outputs": [],
   "source": [
    "class Engine:\n",
    "    def __init__(self, horsepower):\n",
    "        self.horsepower = horsepower\n",
    "\n",
    "    def start(self):\n",
    "        print(\"Engine started.\")\n",
    "\n",
    "class Wheel:\n",
    "    def __init__(self, position):\n",
    "        self.position = position\n",
    "\n",
    "    def rotate(self):\n",
    "        print(f\"Wheel at position {self.position} rotating.\")\n",
    "\n",
    "class Transmission:\n",
    "    def __init__(self, transmission_type):\n",
    "        self.transmission_type = transmission_type\n",
    "\n",
    "    def shift_gear(self):\n",
    "        print(f\"Transmission shifted to {self.transmission_type} gear.\")\n",
    "\n",
    "class Car:\n",
    "    def __init__(self, make, model, engine_horsepower, num_wheels, transmission_type):\n",
    "        self.make = make\n",
    "        self.model = model\n",
    "        self.engine = Engine(engine_horsepower)\n",
    "        self.wheels = [Wheel(i) for i in range(1, num_wheels + 1)]\n",
    "        self.transmission = Transmission(transmission_type)\n",
    "\n",
    "    def start(self):\n",
    "        self.engine.start()\n",
    "        self.transmission.shift_gear()\n",
    "        print(\"Car is ready to go.\")\n",
    "\n",
    "\n",
    "if __name__ == \"__main__\":\n",
    "    my_car = Car(\"Toyota\", \"Camry\", 180, 4, \"Automatic\")\n",
    "    my_car.start()\n"
   ]
  },
  {
   "cell_type": "raw",
   "id": "aaaaa114-3f34-4d39-b40e-53979365708e",
   "metadata": {},
   "source": [
    "11. How can you encapsulate and hide the details of composed objects in Python classes to maintain\n",
    "abstraction?"
   ]
  },
  {
   "cell_type": "raw",
   "id": "ca9ed0a1-2a31-4c3b-bebf-4750103c2506",
   "metadata": {},
   "source": [
    "To encapsulate and hide details of composed objects in Python classes, use private attributes and methods, accessor methods (getters and setters), and limit interface exposure. Additionally, leverage abstract base classes (ABCs) to define common interfaces and encapsulate complex logic within composed objects. Clear documentation and comments should describe the purpose and behavior of composed objects, emphasizing intended usage and abstraction levels. These practices maintain abstraction, promote modularity, and enhance code readability and maintainability."
   ]
  },
  {
   "cell_type": "raw",
   "id": "a5483270-b4a8-4d90-9a3e-423275034354",
   "metadata": {},
   "source": [
    "12. Create a Python class for a university course, using composition to represent students, instructors, and\n",
    "course materials."
   ]
  },
  {
   "cell_type": "code",
   "execution_count": null,
   "id": "a12ee290-01bc-48a4-b587-71aef1a9e1ae",
   "metadata": {},
   "outputs": [],
   "source": [
    "class Student:\n",
    "    def __init__(self, name, student_id):\n",
    "        self.name = name\n",
    "        self.student_id = student_id\n",
    "\n",
    "    def __str__(self):\n",
    "        return f\"Student: {self.name}, ID: {self.student_id}\"\n",
    "\n",
    "class Instructor:\n",
    "    def __init__(self, name, instructor_id):\n",
    "        self.name = name\n",
    "        self.instructor_id = instructor_id\n",
    "\n",
    "    def __str__(self):\n",
    "        return f\"Instructor: {self.name}, ID: {self.instructor_id}\"\n",
    "\n",
    "class CourseMaterial:\n",
    "    def __init__(self, title, content):\n",
    "        self.title = title\n",
    "        self.content = content\n",
    "\n",
    "    def __str__(self):\n",
    "        return f\"Course Material: {self.title}\"\n",
    "\n",
    "class UniversityCourse:\n",
    "    def __init__(self, course_name, instructor, students, course_materials):\n",
    "        self.course_name = course_name\n",
    "        self.instructor = instructor\n",
    "        self.students = students\n",
    "        self.course_materials = course_materials\n",
    "\n",
    "    def __str__(self):\n",
    "        return f\"University Course: {self.course_name}, Instructor: {self.instructor.name}\"\n",
    "\n",
    "\n",
    "if __name__ == \"__main__\":\n",
    "    instructor = Instructor(\"Dr. Smith\", 1001)\n",
    "    student1 = Student(\"John Doe\", 2001)\n",
    "    student2 = Student(\"Jane Smith\", 2002)\n",
    "    course_material1 = CourseMaterial(\"Introduction to Python\", \"Python basics\")\n",
    "    course_material2 = CourseMaterial(\"Advanced Python\", \"Advanced Python concepts\")\n",
    "\n",
    "    students = [student1, student2]\n",
    "    course_materials = [course_material1, course_material2]\n",
    "\n",
    "    course = UniversityCourse(\"Python Programming\", instructor, students, course_materials)\n",
    "    print(course)\n"
   ]
  },
  {
   "cell_type": "raw",
   "id": "afb4214f-9455-4fa3-ad54-29cec668f0b3",
   "metadata": {},
   "source": [
    "13. Discuss the challenges and drawbacks of composition, such as increased complexity and potential for\n",
    "tight coupling between objects."
   ]
  },
  {
   "cell_type": "raw",
   "id": "d68ed48f-318b-4891-8a1f-055566be0904",
   "metadata": {},
   "source": [
    "Composition, while powerful, poses challenges such as increased system complexity and potential tight coupling between objects. Managing dependencies and debugging errors can become intricate due to distributed object interactions. Careful design considerations and adherence to best practices are crucial to mitigate these drawbacks and ensure maintainable, scalable codebases."
   ]
  },
  {
   "cell_type": "raw",
   "id": "a44b4952-5d44-440a-872f-038dad36bf89",
   "metadata": {},
   "source": [
    "14. Create a Python class hierarchy for a restaurant system, using composition to represent menus, dishes,\n",
    "and ingredients."
   ]
  },
  {
   "cell_type": "code",
   "execution_count": null,
   "id": "b590a016-44bd-4386-8953-444338f3a235",
   "metadata": {},
   "outputs": [],
   "source": [
    "class Ingredient:\n",
    "    def __init__(self, name, quantity):\n",
    "        self.name = name\n",
    "        self.quantity = quantity\n",
    "\n",
    "class Dish:\n",
    "    def __init__(self, name, ingredients):\n",
    "        self.name = name\n",
    "        self.ingredients = ingredients\n",
    "\n",
    "class Menu:\n",
    "    def __init__(self, name, dishes):\n",
    "        self.name = name\n",
    "        self.dishes = dishes\n",
    "\n",
    "class Restaurant:\n",
    "    def __init__(self, name, menus):\n",
    "        self.name = name\n",
    "        self.menus = menus\n",
    "\n",
    "\n",
    "if __name__ == \"__main__\":\n",
    "    ingredient1 = Ingredient(\"Tomato\", 2)\n",
    "    ingredient2 = Ingredient(\"Cheese\", 200)\n",
    "    dish1 = Dish(\"Margherita Pizza\", [ingredient1, ingredient2])\n",
    "    menu1 = Menu(\"Pizza Menu\", [dish1])\n",
    "    restaurant = Restaurant(\"Pizzeria\", [menu1])\n",
    "\n",
    "    print(f\"Welcome to {restaurant.name}!\")\n",
    "    print(f\"Today's menus:\")\n",
    "    for menu in restaurant.menus:\n",
    "        print(f\" - {menu.name}:\")\n",
    "        for dish in menu.dishes:\n",
    "            print(f\"   - {dish.name}:\")\n",
    "            for ingredient in dish.ingredients:\n",
    "                print(f\"     - {ingredient.quantity} {ingredient.name}\")\n"
   ]
  },
  {
   "cell_type": "raw",
   "id": "041244ce-dccf-40ff-9aba-fda4fa128cd5",
   "metadata": {},
   "source": [
    "15. Explain how composition enhances code maintainability and modularity in Python programs."
   ]
  },
  {
   "cell_type": "raw",
   "id": "f47d4753-8f37-43da-881e-ad145e3ac3e5",
   "metadata": {},
   "source": [
    "Composition in Python enhances code maintainability and modularity by encapsulating complex functionality within individual objects. It promotes modularity by breaking down systems into smaller, self-contained components, facilitating code reuse. Objects interact through well-defined interfaces, reducing tight coupling and dependencies between components. Composition allows for flexible system design, enabling the addition or modification of functionality without impacting the overall structure. Clear abstractions and interfaces between components promote code readability, understandability, and maintainability."
   ]
  },
  {
   "cell_type": "raw",
   "id": "3d4f548a-0865-4500-ac35-355ea1a4362f",
   "metadata": {},
   "source": [
    "16. Create a Python class for a computer game character, using composition to represent attributes like\n",
    "weapons, armor, and inventory."
   ]
  },
  {
   "cell_type": "code",
   "execution_count": null,
   "id": "435f302f-8ee1-4004-bad9-fa29c1690daf",
   "metadata": {},
   "outputs": [],
   "source": [
    "class Weapon:\n",
    "    def __init__(self, name, damage):\n",
    "        self.name = name\n",
    "        self.damage = damage\n",
    "\n",
    "class Armor:\n",
    "    def __init__(self, name, defense):\n",
    "        self.name = name\n",
    "        self.defense = defense\n",
    "\n",
    "class Inventory:\n",
    "    def __init__(self, items=None):\n",
    "        self.items = items if items is not None else []\n",
    "\n",
    "    def add_item(self, item):\n",
    "        self.items.append(item)\n",
    "\n",
    "    def remove_item(self, item):\n",
    "        self.items.remove(item)\n",
    "\n",
    "class Character:\n",
    "    def __init__(self, name, level, weapon=None, armor=None, inventory=None):\n",
    "        self.name = name\n",
    "        self.level = level\n",
    "        self.weapon = weapon\n",
    "        self.armor = armor\n",
    "        self.inventory = inventory if inventory is not None else Inventory()\n",
    "\n",
    "    def equip_weapon(self, weapon):\n",
    "        self.weapon = weapon\n",
    "\n",
    "    def equip_armor(self, armor):\n",
    "        self.armor = armor\n",
    "\n",
    "\n",
    "if __name__ == \"__main__\":\n",
    "    sword = Weapon(\"Sword\", 10)\n",
    "    helmet = Armor(\"Helmet\", 5)\n",
    "    inventory = Inventory()\n",
    "\n",
    "    player = Character(\"Player 1\", 1, sword, helmet, inventory)\n",
    "    print(f\"{player.name} equipped with {player.weapon.name} and {player.armor.name}\")\n",
    "\n",
    "    potion = \"Health Potion\"\n",
    "    player.inventory.add_item(potion)\n",
    "    print(f\"{player.name}'s inventory: {player.inventory.items}\")\n"
   ]
  },
  {
   "cell_type": "raw",
   "id": "c47c6c90-d414-4e78-a5df-9aad5810a1fb",
   "metadata": {},
   "source": [
    "17. Describe the concept of \"aggregation\" in composition and how it differs from simple composition."
   ]
  },
  {
   "cell_type": "raw",
   "id": "3dbf88ff-5bf2-4294-9221-6c8a6e637ce7",
   "metadata": {},
   "source": [
    "Aggregation in composition refers to a \"has-a\" relationship where one object contains another object as a part, which can exist independently. Unlike simple composition, the contained object in aggregation has its own lifecycle and can be shared among multiple containers. Aggregation promotes flexibility, reusability, and loose coupling between objects, allowing for shared ownership and navigation across different contexts. It implies a one-to-many or many-to-many relationship, enabling objects to be reused and shared across various components of the system. In contrast, simple composition represents a tighter one-to-one relationship, where the contained object is tightly bound to its container and cannot exist independently."
   ]
  },
  {
   "cell_type": "raw",
   "id": "2736c027-6d79-4b94-a3d5-807269efaba6",
   "metadata": {},
   "source": [
    "18. Create a Python class for a house, using composition to represent rooms, furniture, and appliances."
   ]
  },
  {
   "cell_type": "code",
   "execution_count": null,
   "id": "06474d85-d1c5-4e34-944e-1fc9d6595a5c",
   "metadata": {},
   "outputs": [],
   "source": [
    "class Furniture:\n",
    "    def __init__(self, name):\n",
    "        self.name = name\n",
    "\n",
    "class Appliance:\n",
    "    def __init__(self, name):\n",
    "        self.name = name\n",
    "\n",
    "class Room:\n",
    "    def __init__(self, name):\n",
    "        self.name = name\n",
    "        self.furniture = []\n",
    "        self.appliances = []\n",
    "\n",
    "    def add_furniture(self, furniture):\n",
    "        self.furniture.append(furniture)\n",
    "\n",
    "    def add_appliance(self, appliance):\n",
    "        self.appliances.append(appliance)\n",
    "\n",
    "class House:\n",
    "    def __init__(self, name):\n",
    "        self.name = name\n",
    "        self.rooms = []\n",
    "\n",
    "    def add_room(self, room):\n",
    "        self.rooms.append(room)\n",
    "\n",
    "\n",
    "if __name__ == \"__main__\":\n",
    "    sofa = Furniture(\"Sofa\")\n",
    "    tv = Appliance(\"TV\")\n",
    "\n",
    "    living_room = Room(\"Living Room\")\n",
    "    living_room.add_furniture(sofa)\n",
    "    living_room.add_appliance(tv)\n",
    "\n",
    "    bed = Furniture(\"Bed\")\n",
    "    lamp = Appliance(\"Lamp\")\n",
    "\n",
    "    bedroom = Room(\"Bedroom\")\n",
    "    bedroom.add_furniture(bed)\n",
    "    bedroom.add_appliance(lamp)\n",
    "\n",
    "    my_house = House(\"My House\")\n",
    "    my_house.add_room(living_room)\n",
    "    my_house.add_room(bedroom)\n",
    "\n",
    "    for room in my_house.rooms:\n",
    "        print(f\"Room: {room.name}\")\n",
    "        print(\"Furniture:\")\n",
    "        for furniture in room.furniture:\n",
    "            print(f\" - {furniture.name}\")\n",
    "        print(\"Appliances:\")\n",
    "        for appliance in room.appliances:\n",
    "            print(f\" - {appliance.name}\")\n"
   ]
  },
  {
   "cell_type": "raw",
   "id": "bde66b09-5a25-42f3-95a1-26e47969fa66",
   "metadata": {},
   "source": [
    "19. How can you achieve flexibility in composed objects by allowing them to be replaced or modified\n",
    "dynamically at runtime?"
   ]
  },
  {
   "cell_type": "raw",
   "id": "6370cc22-b338-4965-b251-984b1c363a07",
   "metadata": {},
   "source": [
    "Achieve flexibility in composed objects by implementing interfaces or abstract base classes, employing dependency injection for dynamic replacement of dependencies, utilizing factory design patterns to instantiate objects based on runtime conditions, using configuration or dependency injection containers for external management of object creation, and applying dynamic method resolution techniques like monkey patching or method delegation for runtime modification of object behavior. These approaches decouple components, enhance code reusability, and facilitate the evolution of complex systems while ensuring maintainability and adaptability."
   ]
  },
  {
   "cell_type": "raw",
   "id": "7df4c939-589d-4160-8e97-d100484f2f7c",
   "metadata": {},
   "source": [
    "20. Create a Python class for a social media application, using composition to represent users, posts, and\n",
    "comments."
   ]
  },
  {
   "cell_type": "code",
   "execution_count": null,
   "id": "3935e5ac-f273-473d-8b0f-c0a2f0df3015",
   "metadata": {},
   "outputs": [],
   "source": [
    "class Comment:\n",
    "    def __init__(self, user, content):\n",
    "        self.user = user\n",
    "        self.content = content\n",
    "\n",
    "    def __str__(self):\n",
    "        return f\"{self.user}: {self.content}\"\n",
    "\n",
    "class Post:\n",
    "    def __init__(self, user, content):\n",
    "        self.user = user\n",
    "        self.content = content\n",
    "        self.comments = []\n",
    "\n",
    "    def add_comment(self, comment):\n",
    "        self.comments.append(comment)\n",
    "\n",
    "    def __str__(self):\n",
    "        return f\"{self.user} posted: {self.content}\\nComments: {', '.join(str(c) for c in self.comments)}\"\n",
    "\n",
    "class User:\n",
    "    def __init__(self, username):\n",
    "        self.username = username\n",
    "\n",
    "    def create_post(self, content):\n",
    "        return Post(self.username, content)\n",
    "\n",
    "    def comment_on_post(self, post, content):\n",
    "        comment = Comment(self.username, content)\n",
    "        post.add_comment(comment)\n",
    "\n",
    "\n",
    "if __name__ == \"__main__\":\n",
    "    user1 = User(\"Alice\")\n",
    "    user2 = User(\"Bob\")\n",
    "\n",
    "    post1 = user1.create_post(\"Hello, world!\")\n",
    "    user2.comment_on_post(post1, \"Nice post!\")\n",
    "    user1.comment_on_post(post1, \"Thank you!\")\n",
    "\n",
    "    print(post1)\n"
   ]
  }
 ],
 "metadata": {
  "kernelspec": {
   "display_name": "Python 3 (ipykernel)",
   "language": "python",
   "name": "python3"
  },
  "language_info": {
   "codemirror_mode": {
    "name": "ipython",
    "version": 3
   },
   "file_extension": ".py",
   "mimetype": "text/x-python",
   "name": "python",
   "nbconvert_exporter": "python",
   "pygments_lexer": "ipython3",
   "version": "3.10.8"
  }
 },
 "nbformat": 4,
 "nbformat_minor": 5
}
